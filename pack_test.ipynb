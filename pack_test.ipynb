{
 "cells": [
  {
   "cell_type": "code",
   "execution_count": 1,
   "id": "225f654f",
   "metadata": {},
   "outputs": [],
   "source": [
    "import os\n",
    "import sys\n",
    "import pandas as pd\n",
    "\n",
    "import evo_helpers as hlp\n",
    "import evo_constants as CTS"
   ]
  },
  {
   "cell_type": "markdown",
   "id": "fb7674e5",
   "metadata": {},
   "source": [
    "**<center>Reproduciendo los resultados con las bases del ejemplo:</center>**"
   ]
  },
  {
   "cell_type": "markdown",
   "id": "643ef9aa",
   "metadata": {},
   "source": [
    "## Parte 1 : Preprocesar bases de datos y aplicar Blastp:\n",
    "- Obtener headers en formato EvoMining\n",
    "- Crear bases de datos para aplicar Blastp\n",
    "- Aplicar Blastp: 1) De central a Genomas; 2) De genomas a central"
   ]
  },
  {
   "cell_type": "code",
   "execution_count": null,
   "id": "24a9a2c2",
   "metadata": {},
   "outputs": [],
   "source": [
    "# Headers:\n",
    "hlp.make_all_evo_headers(CTS.EXMPL_GENOMES_DB, CTS.EXMPL_RAST_IDS)\n",
    "hlp.join_evo_headers_files()"
   ]
  },
  {
   "cell_type": "code",
   "execution_count": null,
   "id": "65b2e81b",
   "metadata": {},
   "outputs": [],
   "source": [
    "# BLAST_DBs:\n",
    "#Blast_DB de base de genomas:\n",
    "hlp.makeblast_db(CTS.EVO_GENOMES_DB)\n",
    "#Blast_DB de base de base de enzimas:\n",
    "hlp.makeblast_db(CTS.EXMPL_DB[\"central\"])\n",
    "#Blast_DB de base mibig:\n",
    "hlp.makeblast_db(CTS.EXMPL_DB[\"nat_prods\"])"
   ]
  },
  {
   "cell_type": "code",
   "execution_count": null,
   "id": "54e6c892",
   "metadata": {},
   "outputs": [],
   "source": [
    "# BLASTp de Central a Genomas:\n",
    "blastdb_path = CTS.BLASTDBs_PATH + 'evo_genomes_db_blastdb/' #Issue:Agregar a constantes las rutas a cada blastdb\n",
    "hlp.apply_blastp(CTS.EXMPL_DB[\"central\"], blastdb_path)\n",
    "\n",
    "# BLASTp de Genomes to Central:\n",
    "blastdb_path = CTS.BLASTDBs_PATH + 'central_blastdb/'  #Issue: Agregar a constantes las rutas a cada blastdb\n",
    "hlp.apply_blastp(CTS.EVO_GENOMES_DB, blastdb_path)"
   ]
  },
  {
   "cell_type": "markdown",
   "id": "73821268",
   "metadata": {},
   "source": [
    "**Crear .json:**"
   ]
  },
  {
   "cell_type": "markdown",
   "id": "be64e42f",
   "metadata": {},
   "source": [
    "- central_fmlies.json: {\"fam_1\":[elements of family_1], ...}\n",
    "- orgs_ids_names: {\"org_1_id\":\"name_org_1\", ...}\n",
    "- Dictio_bh_ida\n"
   ]
  },
  {
   "cell_type": "code",
   "execution_count": null,
   "id": "5943d8ca",
   "metadata": {},
   "outputs": [],
   "source": []
  },
  {
   "cell_type": "markdown",
   "id": "e5baec38",
   "metadata": {},
   "source": [
    "## 2. Obtener familias expandidas:"
   ]
  },
  {
   "cell_type": "code",
   "execution_count": null,
   "id": "e93b6a8b",
   "metadata": {},
   "outputs": [],
   "source": [
    "hlp.best_hits_blast1(CTS.BLASTp_PATH+\"central_to_genomes/central_to_genomes.blast\", CTS.EXMPL_RAST_IDS)"
   ]
  },
  {
   "cell_type": "markdown",
   "id": "8f3f69c4",
   "metadata": {},
   "source": [
    "**Crear archivos con las secuencias de las expansiones:**"
   ]
  },
  {
   "cell_type": "code",
   "execution_count": 3,
   "id": "671dbb2b",
   "metadata": {},
   "outputs": [],
   "source": [
    "hlp.obtain_seq_of_expFam(CTS.EVO_GENOMES_DB + \"evo_genomes_db.fasta\")"
   ]
  },
  {
   "cell_type": "markdown",
   "id": "9da4b609",
   "metadata": {},
   "source": [
    "## 3 Heat map:"
   ]
  },
  {
   "cell_type": "code",
   "execution_count": null,
   "id": "a422800f",
   "metadata": {},
   "outputs": [],
   "source": []
  }
 ],
 "metadata": {
  "kernelspec": {
   "display_name": "Python (bioenv)",
   "language": "python",
   "name": "bioenv"
  },
  "language_info": {
   "codemirror_mode": {
    "name": "ipython",
    "version": 3
   },
   "file_extension": ".py",
   "mimetype": "text/x-python",
   "name": "python",
   "nbconvert_exporter": "python",
   "pygments_lexer": "ipython3",
   "version": "3.10.6"
  }
 },
 "nbformat": 4,
 "nbformat_minor": 5
}
