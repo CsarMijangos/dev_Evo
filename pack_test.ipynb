{
 "cells": [
  {
   "cell_type": "code",
   "execution_count": 1,
   "id": "225f654f",
   "metadata": {},
   "outputs": [],
   "source": [
    "import os\n",
    "import sys\n",
    "import pandas as pd\n",
    "\n",
    "import evo_helpers as hlp\n",
    "import evo_constants as CTS\n",
    "\n"
   ]
  },
  {
   "cell_type": "markdown",
   "id": "c5364d07",
   "metadata": {},
   "source": [
    "## Part 1 : Preprocess databases and apply Blastp:\n",
    "- Obtain headers in Evomining format \n",
    "- Create databases and apply Blastp \n",
    "- Apply Blastp: 1) From central to Genomes; 2) From genomes to central"
   ]
  },
  {
   "cell_type": "code",
   "execution_count": null,
   "id": "e1e4302d",
   "metadata": {},
   "outputs": [],
   "source": [
    "hlp.welcome()"
   ]
  },
  {
   "cell_type": "code",
   "execution_count": null,
   "id": "807a1995",
   "metadata": {},
   "outputs": [],
   "source": [
    "# Headers:\n",
    "hlp.make_all_evo_headers(CTS.EXMPL_GENOMES_DB, CTS.EXMPL_RAST_IDS)\n",
    "hlp.join_evo_headers_files()"
   ]
  },
  {
   "cell_type": "code",
   "execution_count": null,
   "id": "de827707",
   "metadata": {},
   "outputs": [],
   "source": [
    "# BLAST_DBs:\n",
    "#Blast_DB of genomes:\n",
    "hlp.makeblast_db(CTS.EVO_GENOMES_DB)\n",
    "#Blast_DB of enzymes (central):\n",
    "hlp.makeblast_db(CTS.EXMPL_DB[\"central\"])\n",
    "#Blast_DB from mibig:\n",
    "hlp.makeblast_db(CTS.EXMPL_DB[\"nat_prods\"])"
   ]
  },
  {
   "cell_type": "code",
   "execution_count": null,
   "id": "d5969b0b",
   "metadata": {},
   "outputs": [],
   "source": [
    "# BLASTp from Central to Genomes:\n",
    "blastdb_path = CTS.BLASTDBs_PATH + 'evo_genomes_db_blastdb/' #Issue:Agregar a constantes las rutas a cada blastdb\n",
    "hlp.apply_blastp(CTS.EXMPL_DB[\"central\"], blastdb_path)\n",
    "\n",
    "# BLASTp from Genomes to Central:\n",
    "blastdb_path = CTS.BLASTDBs_PATH + 'central_blastdb/'  #Issue: Agregar a constantes las rutas a cada blastdb\n",
    "hlp.apply_blastp(CTS.EVO_GENOMES_DB, blastdb_path)"
   ]
  },
  {
   "cell_type": "markdown",
   "id": "609f8ef1",
   "metadata": {},
   "source": [
    "**Crear .json:**"
   ]
  },
  {
   "cell_type": "markdown",
   "id": "37e72a1c",
   "metadata": {},
   "source": [
    "- central_fmlies.json: {\"fam_1\":[elements of family_1], ...}\n",
    "- orgs_ids_names: {\"org_1_id\":\"name_org_1\", ...}\n",
    "- Dictio_bh_ida\n"
   ]
  },
  {
   "cell_type": "markdown",
   "id": "b1df6ec2",
   "metadata": {},
   "source": [
    "## 2. Obtain expanded families:"
   ]
  },
  {
   "cell_type": "code",
   "execution_count": null,
   "id": "7998a940",
   "metadata": {},
   "outputs": [],
   "source": [
    "hlp.best_hits_blast1(CTS.BLASTp_PATH+\"central_to_genomes/central_to_genomes.blast\", CTS.EXMPL_RAST_IDS)"
   ]
  },
  {
   "cell_type": "markdown",
   "id": "35d11b4e",
   "metadata": {},
   "source": [
    "**Create files with the sequences of the expansions:**"
   ]
  },
  {
   "cell_type": "code",
   "execution_count": null,
   "id": "b9d34d57",
   "metadata": {},
   "outputs": [],
   "source": [
    "hlp.obtain_seq_of_expFam(CTS.EVO_GENOMES_DB + \"evo_genomes_db.fasta\")"
   ]
  },
  {
   "cell_type": "markdown",
   "id": "a1143b36",
   "metadata": {},
   "source": [
    "## 3 Heat map:"
   ]
  },
  {
   "cell_type": "code",
   "execution_count": null,
   "id": "42b81369",
   "metadata": {},
   "outputs": [],
   "source": [
    "hlp.make_heat_map(\"mean\")"
   ]
  },
  {
   "cell_type": "code",
   "execution_count": null,
   "id": "2ca90ae7",
   "metadata": {},
   "outputs": [],
   "source": [
    "hlp.make_heat_map(\"mean + std\")"
   ]
  },
  {
   "cell_type": "code",
   "execution_count": null,
   "id": "9cffca46",
   "metadata": {},
   "outputs": [],
   "source": [
    "hlp.make_heat_map(\"mean + 2*std\")"
   ]
  },
  {
   "cell_type": "code",
   "execution_count": null,
   "id": "7be3c64b",
   "metadata": {},
   "outputs": [],
   "source": [
    "hlp.make_heat_map(\"median\")"
   ]
  },
  {
   "cell_type": "code",
   "execution_count": null,
   "id": "1dece119",
   "metadata": {},
   "outputs": [],
   "source": [
    "hlp.make_heat_map(\"mode\")"
   ]
  },
  {
   "cell_type": "markdown",
   "id": "f337ec48",
   "metadata": {},
   "source": [
    "## 4. Blastp expansions vs MIBiG:"
   ]
  },
  {
   "cell_type": "code",
   "execution_count": null,
   "id": "6acb1c16",
   "metadata": {},
   "outputs": [],
   "source": [
    "hlp.blast_vs_mibig()"
   ]
  },
  {
   "cell_type": "markdown",
   "id": "b26cbbf7",
   "metadata": {},
   "source": [
    "## 5. Obtain the BGCs "
   ]
  },
  {
   "cell_type": "code",
   "execution_count": null,
   "id": "4645e23e",
   "metadata": {},
   "outputs": [],
   "source": [
    "hlp.obtain_bgcs()"
   ]
  },
  {
   "cell_type": "markdown",
   "id": "afabb67e",
   "metadata": {},
   "source": [
    "## 6. Apply Muscle:"
   ]
  },
  {
   "cell_type": "code",
   "execution_count": null,
   "id": "36aa3980",
   "metadata": {},
   "outputs": [],
   "source": [
    "# chmod +x /usr/bin/muscle5.0.98_linux \n",
    "# hlp.apply_muscle()"
   ]
  },
  {
   "cell_type": "markdown",
   "id": "5d7722a4",
   "metadata": {},
   "source": [
    "## 7. Obtain trees"
   ]
  },
  {
   "cell_type": "code",
   "execution_count": 4,
   "id": "ba1cbdde",
   "metadata": {},
   "outputs": [],
   "source": [
    "from ete3 import PhyloTree"
   ]
  },
  {
   "cell_type": "code",
   "execution_count": null,
   "id": "4aee44b2",
   "metadata": {},
   "outputs": [],
   "source": [
    "\n",
    "ete3 build -a /home/csar/Proyectos/Posdoc/Proyecto_pos/dev_package/data/data_bases/tree_files/MUSCLE_expanded_fam_1.fasta -w soft_modeltest -o /home/csar/Proyectos/Posdoc/Proyecto_pos/dev_package/data/data_bases/tree_files/"
   ]
  },
  {
   "cell_type": "code",
   "execution_count": 2,
   "id": "5c6756b4",
   "metadata": {},
   "outputs": [],
   "source": [
    "#import evo_helpers as hlp\n",
    "hlp.obtain_tree()"
   ]
  },
  {
   "cell_type": "code",
   "execution_count": 2,
   "id": "293843b4",
   "metadata": {},
   "outputs": [
    {
     "ename": "NewickError",
     "evalue": "Unexisting tree file or Malformed newick tree structure.\nYou may want to check other newick loading flags like 'format' or 'quoted_node_names'.",
     "output_type": "error",
     "traceback": [
      "\u001b[0;31m---------------------------------------------------------------------------\u001b[0m",
      "\u001b[0;31mNewickError\u001b[0m                               Traceback (most recent call last)",
      "Cell \u001b[0;32mIn [2], line 1\u001b[0m\n\u001b[0;32m----> 1\u001b[0m hlp\u001b[39m.\u001b[39mtree_view()\n",
      "File \u001b[0;32m~/Proyectos/Posdoc/Proyecto_pos/dev_package/evo_helpers.py:1181\u001b[0m, in \u001b[0;36mtree_view\u001b[0;34m()\u001b[0m\n\u001b[1;32m   1179\u001b[0m \u001b[39mfor\u001b[39;00m t \u001b[39min\u001b[39;00m tree_files:\n\u001b[1;32m   1180\u001b[0m     algt_file \u001b[39m=\u001b[39m t\u001b[39m.\u001b[39msplit(\u001b[39m\"\u001b[39m\u001b[39mTREE_\u001b[39m\u001b[39m\"\u001b[39m)[\u001b[39m1\u001b[39m]\n\u001b[0;32m-> 1181\u001b[0m     tree_obj \u001b[39m=\u001b[39m PhyloTree(t, alignment\u001b[39m=\u001b[39;49m algt_file, alg_format\u001b[39m=\u001b[39;49m \u001b[39m\"\u001b[39;49m\u001b[39mfasta\u001b[39;49m\u001b[39m\"\u001b[39;49m)\n\u001b[1;32m   1182\u001b[0m     t\u001b[39m.\u001b[39mshow(tree_style \u001b[39m=\u001b[39m TreeStyle())\n\u001b[1;32m   1183\u001b[0m \u001b[39mreturn\u001b[39;00m\n",
      "File \u001b[0;32m~/miniconda3/envs/bioenv/lib/python3.10/site-packages/ete3/phylo/phylotree.py:391\u001b[0m, in \u001b[0;36mPhyloNode.__init__\u001b[0;34m(self, newick, alignment, alg_format, sp_naming_function, format, **kargs)\u001b[0m\n\u001b[1;32m    388\u001b[0m \u001b[39mself\u001b[39m\u001b[39m.\u001b[39m_speciesFunction \u001b[39m=\u001b[39m \u001b[39mNone\u001b[39;00m\n\u001b[1;32m    389\u001b[0m \u001b[39m# Caution! native __init__ has to be called after setting\u001b[39;00m\n\u001b[1;32m    390\u001b[0m \u001b[39m# _speciesFunction to None!!\u001b[39;00m\n\u001b[0;32m--> 391\u001b[0m TreeNode\u001b[39m.\u001b[39;49m\u001b[39m__init__\u001b[39;49m(\u001b[39mself\u001b[39;49m, newick\u001b[39m=\u001b[39;49mnewick, \u001b[39mformat\u001b[39;49m\u001b[39m=\u001b[39;49m\u001b[39mformat\u001b[39;49m, \u001b[39m*\u001b[39;49m\u001b[39m*\u001b[39;49mkargs)\n\u001b[1;32m    393\u001b[0m \u001b[39m# This will be only executed after reading the whole tree,\u001b[39;00m\n\u001b[1;32m    394\u001b[0m \u001b[39m# because the argument 'alignment' is not passed to the\u001b[39;00m\n\u001b[1;32m    395\u001b[0m \u001b[39m# PhyloNode constructor during parsing\u001b[39;00m\n\u001b[1;32m    396\u001b[0m \u001b[39mif\u001b[39;00m alignment:\n",
      "File \u001b[0;32m~/miniconda3/envs/bioenv/lib/python3.10/site-packages/ete3/coretype/tree.py:212\u001b[0m, in \u001b[0;36mTreeNode.__init__\u001b[0;34m(self, newick, format, dist, support, name, quoted_node_names)\u001b[0m\n\u001b[1;32m    210\u001b[0m \u001b[39mif\u001b[39;00m newick \u001b[39mis\u001b[39;00m \u001b[39mnot\u001b[39;00m \u001b[39mNone\u001b[39;00m:\n\u001b[1;32m    211\u001b[0m     \u001b[39mself\u001b[39m\u001b[39m.\u001b[39m_dist \u001b[39m=\u001b[39m \u001b[39m0.0\u001b[39m\n\u001b[0;32m--> 212\u001b[0m     read_newick(newick, root_node \u001b[39m=\u001b[39;49m \u001b[39mself\u001b[39;49m, \u001b[39mformat\u001b[39;49m\u001b[39m=\u001b[39;49m\u001b[39mformat\u001b[39;49m,\n\u001b[1;32m    213\u001b[0m                 quoted_names\u001b[39m=\u001b[39;49mquoted_node_names)\n",
      "File \u001b[0;32m~/miniconda3/envs/bioenv/lib/python3.10/site-packages/ete3/parser/newick.py:264\u001b[0m, in \u001b[0;36mread_newick\u001b[0;34m(newick, root_node, format, quoted_names)\u001b[0m\n\u001b[1;32m    262\u001b[0m     \u001b[39mreturn\u001b[39;00m _read_newick_from_string(nw, root_node, matcher, \u001b[39mformat\u001b[39m, quoted_names)\n\u001b[1;32m    263\u001b[0m \u001b[39melif\u001b[39;00m \u001b[39mnot\u001b[39;00m nw\u001b[39m.\u001b[39mstartswith(\u001b[39m'\u001b[39m\u001b[39m(\u001b[39m\u001b[39m'\u001b[39m) \u001b[39mor\u001b[39;00m \u001b[39mnot\u001b[39;00m nw\u001b[39m.\u001b[39mendswith(\u001b[39m'\u001b[39m\u001b[39m;\u001b[39m\u001b[39m'\u001b[39m):\n\u001b[0;32m--> 264\u001b[0m     \u001b[39mraise\u001b[39;00m NewickError(\u001b[39m'\u001b[39m\u001b[39mUnexisting tree file or Malformed newick tree structure.\u001b[39m\u001b[39m'\u001b[39m)\n\u001b[1;32m    265\u001b[0m \u001b[39melse\u001b[39;00m:\n\u001b[1;32m    266\u001b[0m     \u001b[39mreturn\u001b[39;00m _read_newick_from_string(nw, root_node, matcher, \u001b[39mformat\u001b[39m, quoted_names)\n",
      "\u001b[0;31mNewickError\u001b[0m: Unexisting tree file or Malformed newick tree structure.\nYou may want to check other newick loading flags like 'format' or 'quoted_node_names'."
     ]
    }
   ],
   "source": [
    "hlp.tree_view()"
   ]
  },
  {
   "cell_type": "code",
   "execution_count": null,
   "id": "4ed75a4c",
   "metadata": {},
   "outputs": [],
   "source": []
  }
 ],
 "metadata": {
  "kernelspec": {
   "display_name": "Python (bioenv)",
   "language": "python",
   "name": "bioenv"
  },
  "language_info": {
   "codemirror_mode": {
    "name": "ipython",
    "version": 3
   },
   "file_extension": ".py",
   "mimetype": "text/x-python",
   "name": "python",
   "nbconvert_exporter": "python",
   "pygments_lexer": "ipython3",
   "version": "3.10.6"
  }
 },
 "nbformat": 4,
 "nbformat_minor": 5
}
