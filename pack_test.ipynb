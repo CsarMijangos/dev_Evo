{
 "cells": [
  {
   "cell_type": "code",
   "execution_count": 1,
   "id": "225f654f",
   "metadata": {},
   "outputs": [],
   "source": [
    "import os\n",
    "import sys\n",
    "import pandas as pd\n",
    "\n",
    "import evo_helpers as hlp\n",
    "import evo_constants as CTS"
   ]
  },
  {
   "cell_type": "markdown",
   "id": "ce054af7",
   "metadata": {},
   "source": [
    "**<center>Reproduciendo los resultados con las bases del ejemplo:</center>**"
   ]
  },
  {
   "cell_type": "markdown",
   "id": "2491fd1a",
   "metadata": {},
   "source": [
    "## Parte 1 : Preprocesar bases de datos y aplicar Blastp:\n",
    "- Obtener headers en formato EvoMining\n",
    "- Crear bases de datos para aplicar Blastp\n",
    "- Aplicar Blastp: 1) De central a Genomas; 2) De genomas a central"
   ]
  },
  {
   "cell_type": "code",
   "execution_count": null,
   "id": "72a19719",
   "metadata": {},
   "outputs": [],
   "source": [
    "# Headers:\n",
    "hlp.make_all_evo_headers(CTS.EXMPL_GENOMES_DB, CTS.EXMPL_RAST_IDS)\n",
    "hlp.join_evo_headers_files()"
   ]
  },
  {
   "cell_type": "code",
   "execution_count": null,
   "id": "4cd5c371",
   "metadata": {},
   "outputs": [],
   "source": [
    "# BLAST_DBs:\n",
    "#Blast_DB de base de genomas:\n",
    "hlp.makeblast_db(CTS.EVO_GENOMES_DB)\n",
    "#Blast_DB de base de base de enzimas:\n",
    "hlp.makeblast_db(CTS.EXMPL_DB[\"central\"])\n",
    "#Blast_DB de base mibig:\n",
    "hlp.makeblast_db(CTS.EXMPL_DB[\"nat_prods\"])"
   ]
  },
  {
   "cell_type": "code",
   "execution_count": null,
   "id": "abc490e6",
   "metadata": {},
   "outputs": [],
   "source": [
    "# BLASTp de Central a Genomas:\n",
    "blastdb_path = CTS.BLASTDBs_PATH + 'evo_genomes_db_blastdb/' #Issue:Agregar a constantes las rutas a cada blastdb\n",
    "hlp.apply_blastp(CTS.EXMPL_DB[\"central\"], blastdb_path)\n",
    "\n",
    "# BLASTp de Genomes to Central:\n",
    "blastdb_path = CTS.BLASTDBs_PATH + 'central_blastdb/'  #Issue: Agregar a constantes las rutas a cada blastdb\n",
    "hlp.apply_blastp(CTS.EVO_GENOMES_DB, blastdb_path)"
   ]
  },
  {
   "cell_type": "markdown",
   "id": "fb1d69fe",
   "metadata": {},
   "source": [
    "## Parte 1.1: Crear archivos .json con diccionarios que guarden información que se utilizará múltiples veces:"
   ]
  },
  {
   "cell_type": "markdown",
   "id": "d189c2a7",
   "metadata": {},
   "source": [
    "- central_fmlies.json: {\"fam_1\":[elements of family_1], ...}\n",
    "- orgs_ids_names: {\"org_1_id\":\"name_org_1\", ...}\n",
    "- Dictio_bh_ida\n"
   ]
  },
  {
   "cell_type": "code",
   "execution_count": 2,
   "id": "afc3fc7b",
   "metadata": {},
   "outputs": [],
   "source": [
    "hlp.best_hits_blast1(CTS.BLASTp_PATH+\"central_to_genomes/central_to_genomes.blast\", CTS.EXMPL_RAST_IDS)"
   ]
  },
  {
   "cell_type": "code",
   "execution_count": 3,
   "id": "5f44e519",
   "metadata": {},
   "outputs": [],
   "source": [
    "hlp.best_hit_central_to_orgs('/home/csar/Proyectos/Posdoc/Proyecto_pos/dev_package/data/data_bases/blastp/central_to_genomes/central_to_genomes.blast')"
   ]
  },
  {
   "cell_type": "code",
   "execution_count": null,
   "id": "46a3d2a0",
   "metadata": {},
   "outputs": [],
   "source": []
  }
 ],
 "metadata": {
  "kernelspec": {
   "display_name": "Python (bioenv)",
   "language": "python",
   "name": "bioenv"
  },
  "language_info": {
   "codemirror_mode": {
    "name": "ipython",
    "version": 3
   },
   "file_extension": ".py",
   "mimetype": "text/x-python",
   "name": "python",
   "nbconvert_exporter": "python",
   "pygments_lexer": "ipython3",
   "version": "3.10.6"
  }
 },
 "nbformat": 4,
 "nbformat_minor": 5
}
