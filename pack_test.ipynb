{
 "cells": [
  {
   "cell_type": "code",
   "execution_count": 1,
   "id": "225f654f",
   "metadata": {},
   "outputs": [],
   "source": [
    "import os\n",
    "import sys\n",
    "import pandas as pd\n",
    "\n",
    "import evo_helpers as hlp\n",
    "import evo_constants as CTS"
   ]
  },
  {
   "cell_type": "markdown",
   "id": "21492e49",
   "metadata": {},
   "source": [
    "## Part 1 : Preprocess databases and apply Blastp:\n",
    "- Obtain headers in Evomining format \n",
    "- Create databases and apply Blastp \n",
    "- Apply Blastp: 1) From central to Genomes; 2) From genomes to central"
   ]
  },
  {
   "cell_type": "code",
   "execution_count": null,
   "id": "6e81fa14",
   "metadata": {},
   "outputs": [],
   "source": [
    "# Headers:\n",
    "hlp.make_all_evo_headers(CTS.EXMPL_GENOMES_DB, CTS.EXMPL_RAST_IDS)\n",
    "hlp.join_evo_headers_files()"
   ]
  },
  {
   "cell_type": "code",
   "execution_count": null,
   "id": "0c495d13",
   "metadata": {},
   "outputs": [],
   "source": [
    "# BLAST_DBs:\n",
    "#Blast_DB of genomes:\n",
    "hlp.makeblast_db(CTS.EVO_GENOMES_DB)\n",
    "#Blast_DB of enzymes (central):\n",
    "hlp.makeblast_db(CTS.EXMPL_DB[\"central\"])\n",
    "#Blast_DB from mibig:\n",
    "hlp.makeblast_db(CTS.EXMPL_DB[\"nat_prods\"])"
   ]
  },
  {
   "cell_type": "code",
   "execution_count": null,
   "id": "06156556",
   "metadata": {},
   "outputs": [],
   "source": [
    "# BLASTp from Central to Genomes:\n",
    "blastdb_path = CTS.BLASTDBs_PATH + 'evo_genomes_db_blastdb/' #Issue:Agregar a constantes las rutas a cada blastdb\n",
    "hlp.apply_blastp(CTS.EXMPL_DB[\"central\"], blastdb_path)\n",
    "\n",
    "# BLASTp from Genomes to Central:\n",
    "blastdb_path = CTS.BLASTDBs_PATH + 'central_blastdb/'  #Issue: Agregar a constantes las rutas a cada blastdb\n",
    "hlp.apply_blastp(CTS.EVO_GENOMES_DB, blastdb_path)"
   ]
  },
  {
   "cell_type": "markdown",
   "id": "bb94cf60",
   "metadata": {},
   "source": [
    "**Crear .json:**"
   ]
  },
  {
   "cell_type": "markdown",
   "id": "e7d674c8",
   "metadata": {},
   "source": [
    "- central_fmlies.json: {\"fam_1\":[elements of family_1], ...}\n",
    "- orgs_ids_names: {\"org_1_id\":\"name_org_1\", ...}\n",
    "- Dictio_bh_ida\n"
   ]
  },
  {
   "cell_type": "markdown",
   "id": "341a8de3",
   "metadata": {},
   "source": [
    "## 2. Obtain expanded families:"
   ]
  },
  {
   "cell_type": "code",
   "execution_count": null,
   "id": "61481cf9",
   "metadata": {},
   "outputs": [],
   "source": [
    "hlp.best_hits_blast1(CTS.BLASTp_PATH+\"central_to_genomes/central_to_genomes.blast\", CTS.EXMPL_RAST_IDS)"
   ]
  },
  {
   "cell_type": "markdown",
   "id": "6594e487",
   "metadata": {},
   "source": [
    "**Create files with the sequences of the expansions:**"
   ]
  },
  {
   "cell_type": "code",
   "execution_count": null,
   "id": "20bfed7a",
   "metadata": {},
   "outputs": [],
   "source": [
    "hlp.obtain_seq_of_expFam(CTS.EVO_GENOMES_DB + \"evo_genomes_db.fasta\")"
   ]
  },
  {
   "cell_type": "markdown",
   "id": "861b6d1e",
   "metadata": {},
   "source": [
    "## 3 Heat map:"
   ]
  },
  {
   "cell_type": "code",
   "execution_count": null,
   "id": "0c18c9bd",
   "metadata": {},
   "outputs": [],
   "source": [
    "hlp.make_heat_map(\"mean\")"
   ]
  },
  {
   "cell_type": "code",
   "execution_count": null,
   "id": "3d2d04d4",
   "metadata": {},
   "outputs": [],
   "source": [
    "hlp.make_heat_map(\"mean + std\")"
   ]
  },
  {
   "cell_type": "code",
   "execution_count": null,
   "id": "8fb1ecfa",
   "metadata": {},
   "outputs": [],
   "source": [
    "hlp.make_heat_map(\"mean + 2*std\")"
   ]
  },
  {
   "cell_type": "code",
   "execution_count": null,
   "id": "34f38d6b",
   "metadata": {},
   "outputs": [],
   "source": [
    "hlp.make_heat_map(\"median\")"
   ]
  },
  {
   "cell_type": "code",
   "execution_count": null,
   "id": "6a6d2211",
   "metadata": {},
   "outputs": [],
   "source": [
    "hlp.make_heat_map(\"mode\")"
   ]
  },
  {
   "cell_type": "markdown",
   "id": "85609eab",
   "metadata": {},
   "source": [
    "## 4. Blastp expansions vs MIBiG:"
   ]
  },
  {
   "cell_type": "code",
   "execution_count": null,
   "id": "e00c25f1",
   "metadata": {},
   "outputs": [],
   "source": [
    "hlp.blast_vs_mibig()"
   ]
  },
  {
   "cell_type": "markdown",
   "id": "064ec9eb",
   "metadata": {},
   "source": [
    "## 5. Obtain the BGCs "
   ]
  },
  {
   "cell_type": "code",
   "execution_count": null,
   "id": "a302a5b1",
   "metadata": {},
   "outputs": [],
   "source": [
    "hlp.obtain_bgcs()"
   ]
  },
  {
   "cell_type": "code",
   "execution_count": null,
   "id": "856e70f2",
   "metadata": {},
   "outputs": [],
   "source": []
  },
  {
   "cell_type": "markdown",
   "id": "40347bbe",
   "metadata": {},
   "source": [
    "## 6. Apply Muscle:"
   ]
  },
  {
   "cell_type": "code",
   "execution_count": null,
   "id": "0a443201",
   "metadata": {},
   "outputs": [],
   "source": []
  },
  {
   "cell_type": "markdown",
   "id": "fb21ac13",
   "metadata": {},
   "source": [
    "## 7. Obtain trees"
   ]
  },
  {
   "cell_type": "code",
   "execution_count": null,
   "id": "5baee413",
   "metadata": {},
   "outputs": [],
   "source": []
  }
 ],
 "metadata": {
  "kernelspec": {
   "display_name": "Python (bioenv)",
   "language": "python",
   "name": "bioenv"
  },
  "language_info": {
   "codemirror_mode": {
    "name": "ipython",
    "version": 3
   },
   "file_extension": ".py",
   "mimetype": "text/x-python",
   "name": "python",
   "nbconvert_exporter": "python",
   "pygments_lexer": "ipython3",
   "version": "3.10.6"
  }
 },
 "nbformat": 4,
 "nbformat_minor": 5
}
