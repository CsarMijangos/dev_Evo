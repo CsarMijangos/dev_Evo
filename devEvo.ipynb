{
 "cells": [
  {
   "cell_type": "code",
   "execution_count": 1,
   "id": "cf4e800a",
   "metadata": {},
   "outputs": [],
   "source": [
    "import os\n",
    "import sys\n",
    "\n",
    "import evo_helpers as hlp\n",
    "import evo_constants as CTS"
   ]
  },
  {
   "cell_type": "code",
   "execution_count": null,
   "id": "31ae4957",
   "metadata": {},
   "outputs": [],
   "source": [
    "hlp.welcome()"
   ]
  },
  {
   "cell_type": "code",
   "execution_count": null,
   "id": "23572a0d",
   "metadata": {},
   "outputs": [],
   "source": [
    "from importlib import reload\n",
    "reload(evo_helpers)\n",
    "\n",
    "opt = hlp.option_menu()"
   ]
  },
  {
   "cell_type": "code",
   "execution_count": null,
   "id": "c142c324",
   "metadata": {},
   "outputs": [],
   "source": [
    "## obtener las bases de datos del usuario\n",
    "\n",
    "#from importlib import reload\n",
    "#reload(evo_helpers)\n",
    "\n",
    "if opt == 1:\n",
    "    hlp.make_all_evo_headers(CTS.EXMPL_DB[\"genomes\"],\n",
    "                                 CTS.EXMPL_DB[\"rast_ids\"])\n",
    "    hlp.join_evo_headers_files()\n",
    "    hlp.remove_evo_headers_files()\n",
    "    \n",
    "    evo_genomes_path = CTS.EVO_GENOMES_DB\n",
    "    \n",
    "    evomining = EvoMining(cts.EXML_DB[\"central\"],\n",
    "                          cts.EXMPL_DB[\"genomes\"],\n",
    "                          cts.EXMPL_DB[\"nat_prods\"])\n",
    "    evomining.run()\n",
    "\n",
    "else: \n",
    "    user_dbs = hlp.get_dbs()\n",
    "    hlp.make_all_evo_headers(user_dbs[\"genomes\"], \n",
    "                             user_dbs[\"rast_ids\"])\n",
    "    hlp.join_evo_headers_files()\n",
    "    hlp.remove_evo_headers_files()\n",
    "    \n",
    "    user_dbs[\"genomes\"] = CTS.EVO_GENOMES_DB\n",
    "    \n",
    "    evomining = EvoMining(user_dbs[\"central\"],\n",
    "                         user_dbs[\"genomes\"],\n",
    "                         user_dbs[\"nat_prods\"])\n",
    "    evomining.run()"
   ]
  },
  {
   "cell_type": "markdown",
   "id": "3f7c8ff8",
   "metadata": {},
   "source": [
    "## Obtener los archivos .faa con los encabezados en formato evomining:\n",
    "### Los nuevos .faa individuales se guardan en data/aux_data/  (se borran una vez utilizados)\n",
    "### La base de datos con encabezados de evomining se guarda en /data/data_bases/evo_genomes_db/"
   ]
  },
  {
   "cell_type": "code",
   "execution_count": null,
   "id": "b766db88",
   "metadata": {},
   "outputs": [],
   "source": [
    "#from importlib import reload\n",
    "#reload(evo_helpers)\n",
    "\n",
    "genomes_db = \"/home/csar/Proyectos/Posdoc/Proyecto_pos/dev_package/data/data_bases/example/genomes/los17\"\n",
    "Rast_ids = \"/home/csar/Proyectos/Posdoc/Proyecto_pos/dev_package/data/data_bases/example/genomes/los17Rast.ids\"\n",
    "hlp.make_all_evo_headers(genomes_db, Rast_ids)\n",
    "hlp.join_evo_headers_files()\n",
    "hlp.remove_evo_headers_files()"
   ]
  },
  {
   "cell_type": "code",
   "execution_count": 2,
   "id": "06cee270",
   "metadata": {},
   "outputs": [],
   "source": [
    "hlp.makeblast_db(CTS.EVO_GENOMES_DB)"
   ]
  },
  {
   "cell_type": "code",
   "execution_count": null,
   "id": "0d896098",
   "metadata": {},
   "outputs": [],
   "source": []
  }
 ],
 "metadata": {
  "kernelspec": {
   "display_name": "Python 3 (ipykernel)",
   "language": "python",
   "name": "python3"
  },
  "language_info": {
   "codemirror_mode": {
    "name": "ipython",
    "version": 3
   },
   "file_extension": ".py",
   "mimetype": "text/x-python",
   "name": "python",
   "nbconvert_exporter": "python",
   "pygments_lexer": "ipython3",
   "version": "3.10.6"
  }
 },
 "nbformat": 4,
 "nbformat_minor": 5
}
