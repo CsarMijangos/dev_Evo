{
 "cells": [
  {
   "cell_type": "code",
   "execution_count": null,
   "id": "28a9628e",
   "metadata": {},
   "outputs": [],
   "source": [
    "import os\n",
    "import sys\n",
    "\n",
    "import evo_helpers as hlp\n",
    "import evo_constants as CTS"
   ]
  },
  {
   "cell_type": "code",
   "execution_count": null,
   "id": "8c65ae50",
   "metadata": {},
   "outputs": [],
   "source": [
    "hlp.welcome()"
   ]
  },
  {
   "cell_type": "code",
   "execution_count": null,
   "id": "fb87ae15",
   "metadata": {},
   "outputs": [],
   "source": [
    "from importlib import reload\n",
    "reload(evo_helpers)\n",
    "\n",
    "opt = hlp.option_menu()"
   ]
  },
  {
   "cell_type": "code",
   "execution_count": null,
   "id": "4c336d25",
   "metadata": {},
   "outputs": [],
   "source": [
    "## obtener las bases de datos del usuario\n",
    "\n",
    "from importlib import reload\n",
    "reload(evo_helpers)\n",
    "\n",
    "if opt == 1:\n",
    "    evomining = EvoMining(cts.EXML_DB[\"central\"],\n",
    "                          cts.EXMPL_DB[\"genomes\"],\n",
    "                          cts.EXMPL_DB[\"nat_prods\"])\n",
    "    evomining.run()\n",
    "else: \n",
    "    user_dbs = hlp.get_dbs()\n"
   ]
  },
  {
   "cell_type": "code",
   "execution_count": null,
   "id": "4f0ec962",
   "metadata": {},
   "outputs": [],
   "source": [
    "#from importlib import reload\n",
    "#reload(evo_helpers)\n",
    "\n",
    "genomes_db = \"/home/csar/Proyectos/Posdoc/Proyecto_pos/dev_package/data/data_bases/example/genomes/los17\"\n",
    "Rast_ids = \"/home/csar/Proyectos/Posdoc/Proyecto_pos/dev_package/data/data_bases/example/genomes/los17Rast.ids\"\n",
    "hlp.make_all_evo_headers(genomes_db, Rast_ids)"
   ]
  },
  {
   "cell_type": "code",
   "execution_count": null,
   "id": "5f28c9f1",
   "metadata": {},
   "outputs": [],
   "source": []
  }
 ],
 "metadata": {
  "kernelspec": {
   "display_name": "Python 3 (ipykernel)",
   "language": "python",
   "name": "python3"
  },
  "language_info": {
   "codemirror_mode": {
    "name": "ipython",
    "version": 3
   },
   "file_extension": ".py",
   "mimetype": "text/x-python",
   "name": "python",
   "nbconvert_exporter": "python",
   "pygments_lexer": "ipython3",
   "version": "3.10.6"
  }
 },
 "nbformat": 4,
 "nbformat_minor": 5
}
