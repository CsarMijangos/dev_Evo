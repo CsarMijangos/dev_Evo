{
 "cells": [
  {
   "cell_type": "code",
   "execution_count": 1,
   "id": "ee350533",
   "metadata": {},
   "outputs": [],
   "source": [
    "import os\n",
    "import sys\n",
    "import pandas as pd\n",
    "\n",
    "import evo_helpers as hlp\n",
    "import evo_constants as CTS"
   ]
  },
  {
   "cell_type": "code",
   "execution_count": 2,
   "id": "c35ea934",
   "metadata": {},
   "outputs": [
    {
     "name": "stdout",
     "output_type": "stream",
     "text": [
      "Welcome to EvoMinig\n",
      "\n",
      "Press enter to continune ...\n"
     ]
    }
   ],
   "source": [
    "hlp.welcome()"
   ]
  },
  {
   "cell_type": "code",
   "execution_count": null,
   "id": "c37a782c",
   "metadata": {},
   "outputs": [],
   "source": [
    "#from importlib import reload\n",
    "#reload(evo_helpers)\n",
    "\n",
    "opt = hlp.option_menu()"
   ]
  },
  {
   "cell_type": "code",
   "execution_count": null,
   "id": "fd17f884",
   "metadata": {},
   "outputs": [],
   "source": [
    "class Evomining:\n",
    "    \"\"\"This class creates an evomining object.\n",
    "    Its methods permit to access to the evomining\n",
    "    funtionality.\n",
    "    \"\"\"\n",
    "\n",
    "    def __init__(self, centralDB,\n",
    "                evo_genomesDB,\n",
    "                nat_prodsDB):\n",
    "        self.central = centralDB\n",
    "        self.genomesDB = evo_genomesDB\n",
    "        self.nat_prods = nat_prodsDB"
   ]
  },
  {
   "cell_type": "code",
   "execution_count": null,
   "id": "6fc4b6a7",
   "metadata": {},
   "outputs": [],
   "source": [
    "## obtener las bases de datos del usuario\n",
    "\n",
    "#from importlib import reload\n",
    "#reload(evo_helpers)\n",
    "\n",
    "## option 1 precharged example:\n",
    "if opt == 1:\n",
    "    hlp.make_all_evo_headers(CTS.EXMPL_DB[\"genomes\"],\n",
    "                                 CTS.EXMPL_DB[\"rast_ids\"])\n",
    "    hlp.join_evo_headers_files()\n",
    "    hlp.remove_evo_headers_files()\n",
    "    \n",
    "    evo_genomes_path = CTS.EVO_GENOMES_DB\n",
    "    \n",
    "    evomining = EvoMining(cts.EXML_DB[\"central\"],\n",
    "                          cts.EXMPL_DB[\"genomes\"],\n",
    "                          cts.EXMPL_DB[\"nat_prods\"])\n",
    "    #evomining.run()\n",
    "## option 2 user databases:\n",
    "else: \n",
    "    user_dbs = hlp.get_dbs()\n",
    "    hlp.make_all_evo_headers(user_dbs[\"genomes\"], \n",
    "                             user_dbs[\"rast_ids\"])\n",
    "    hlp.join_evo_headers_files()\n",
    "    hlp.remove_evo_headers_files()\n",
    "    \n",
    "    user_dbs[\"genomes\"] = CTS.EVO_GENOMES_DB\n",
    "    \n",
    "    evomining = EvoMining(user_dbs[\"central\"],\n",
    "                         user_dbs[\"genomes\"],\n",
    "                         user_dbs[\"nat_prods\"])\n",
    "    #evomining.run()\n",
    "\n",
    "#evomining.run()"
   ]
  },
  {
   "cell_type": "markdown",
   "id": "8b349be4",
   "metadata": {},
   "source": [
    "## Obtener los archivos .faa con los encabezados en formato evomining:\n",
    "### Los nuevos .faa individuales se guardan en data/aux_data/  (se borran una vez utilizados)\n",
    "### La base de datos con encabezados de evomining se guarda en /data/data_bases/evo_genomes_db/"
   ]
  },
  {
   "cell_type": "code",
   "execution_count": 2,
   "id": "696da2e1",
   "metadata": {},
   "outputs": [],
   "source": [
    "#from importlib import reload\n",
    "#reload(evo_helpers)\n",
    "\n",
    "genomes_db = \"/home/csar/Proyectos/Posdoc/Proyecto_pos/dev_package/data/data_bases/example/genomes/los17\"\n",
    "Rast_ids = \"/home/csar/Proyectos/Posdoc/Proyecto_pos/dev_package/data/data_bases/example/genomes/los17Rast.ids\"\n",
    "hlp.make_all_evo_headers(genomes_db, Rast_ids)\n",
    "hlp.join_evo_headers_files()\n",
    "hlp.remove_evo_headers_files()"
   ]
  },
  {
   "cell_type": "markdown",
   "id": "a8d0f4d3",
   "metadata": {},
   "source": [
    "## Aplicar makeblastdb a las bases de datos que necesitaremos:"
   ]
  },
  {
   "cell_type": "code",
   "execution_count": 3,
   "id": "996103de",
   "metadata": {},
   "outputs": [],
   "source": [
    "hlp.makeblast_db(CTS.EVO_GENOMES_DB)"
   ]
  },
  {
   "cell_type": "code",
   "execution_count": 4,
   "id": "942d751a",
   "metadata": {},
   "outputs": [],
   "source": [
    "hlp.makeblast_db(CTS.EXMPL_DB[\"central\"])\n"
   ]
  },
  {
   "cell_type": "code",
   "execution_count": 5,
   "id": "292f2df2",
   "metadata": {},
   "outputs": [],
   "source": [
    "hlp.makeblast_db(CTS.EXMPL_DB[\"nat_prods\"])"
   ]
  },
  {
   "cell_type": "markdown",
   "id": "53e73461",
   "metadata": {},
   "source": [
    "## Obtener los blastp entre la base de datos central vs la base de datos de genomas:"
   ]
  },
  {
   "cell_type": "code",
   "execution_count": 6,
   "id": "da5384c0",
   "metadata": {},
   "outputs": [],
   "source": [
    "blastdb_path = CTS.BLASTDBs_PATH + 'evo_genomes_db_blastdb/'\n",
    "            \n",
    "hlp.apply_blastp(CTS.EXMPL_DB[\"central\"], blastdb_path)"
   ]
  },
  {
   "cell_type": "code",
   "execution_count": 7,
   "id": "ebc9aa70",
   "metadata": {},
   "outputs": [
    {
     "data": {
      "text/plain": [
       "'data/data_bases/evo_genomes_db/'"
      ]
     },
     "execution_count": 7,
     "metadata": {},
     "output_type": "execute_result"
    }
   ],
   "source": [
    "CTS.EVO_GENOMES_DB"
   ]
  },
  {
   "cell_type": "markdown",
   "id": "3e22b24f",
   "metadata": {},
   "source": [
    "## Obtener los blastp entre la base de datos de genomas vs la base de datos central:"
   ]
  },
  {
   "cell_type": "code",
   "execution_count": 8,
   "id": "70239247",
   "metadata": {},
   "outputs": [],
   "source": [
    "blastdb_path = CTS.BLASTDBs_PATH + 'central_blastdb/'\n",
    "            \n",
    "hlp.apply_blastp(CTS.EVO_GENOMES_DB, blastdb_path)"
   ]
  },
  {
   "cell_type": "markdown",
   "id": "d1b1b9ac",
   "metadata": {},
   "source": [
    "## Obtener los BBH:"
   ]
  },
  {
   "cell_type": "markdown",
   "id": "e78c3eae",
   "metadata": {},
   "source": [
    "### Obtener los mejores elementos únicos del blast de metabolismo central vs genomas: \n",
    "### Estos se guardarán en un diccionario de la forma:\n",
    "### { enzima_i : mejor_copia_en_el_organismo_k }\n",
    "### donde i recorre todas las enzimas en el metabolismo central, y k recorre todos los genomas.\n",
    "### - Considerar solo con bitscore >= 100 e E_value < 0.001 "
   ]
  },
  {
   "cell_type": "code",
   "execution_count": 3,
   "id": "791b41e0",
   "metadata": {},
   "outputs": [],
   "source": [
    "df1 = pd.read_csv('/home/csar/Proyectos/Posdoc/Proyecto_pos/dev_package/data/data_bases/blastp/central_to_genomes/central_to_genomes.blast', sep = \"\\t\", names = CTS.BLAST_COLS)"
   ]
  },
  {
   "cell_type": "code",
   "execution_count": 38,
   "id": "d65a289e",
   "metadata": {},
   "outputs": [],
   "source": [
    "central_enzimes = df1['query'].unique() ##Lista con las enzimas del metabolismo central\n",
    "genomes = hlp.dict_ids_to_names_genomes(CTS.EXMPL_DB[\"rast_ids\"]) ## Diccio con los genomas de la base de genomas"
   ]
  },
  {
   "cell_type": "code",
   "execution_count": 41,
   "id": "e75ef02d",
   "metadata": {},
   "outputs": [
    {
     "data": {
      "text/html": [
       "<div>\n",
       "<style scoped>\n",
       "    .dataframe tbody tr th:only-of-type {\n",
       "        vertical-align: middle;\n",
       "    }\n",
       "\n",
       "    .dataframe tbody tr th {\n",
       "        vertical-align: top;\n",
       "    }\n",
       "\n",
       "    .dataframe thead th {\n",
       "        text-align: right;\n",
       "    }\n",
       "</style>\n",
       "<table border=\"1\" class=\"dataframe\">\n",
       "  <thead>\n",
       "    <tr style=\"text-align: right;\">\n",
       "      <th></th>\n",
       "      <th>query</th>\n",
       "      <th>subject</th>\n",
       "      <th>pc_identity</th>\n",
       "      <th>aln_length</th>\n",
       "      <th>mismatches</th>\n",
       "      <th>gaps_opened</th>\n",
       "      <th>query_start</th>\n",
       "      <th>query_end</th>\n",
       "      <th>subject_start</th>\n",
       "      <th>subject_end</th>\n",
       "      <th>e_value</th>\n",
       "      <th>bitscore</th>\n",
       "    </tr>\n",
       "  </thead>\n",
       "  <tbody>\n",
       "    <tr>\n",
       "      <th>0</th>\n",
       "      <td>3PGA_AMINOACIDS|1|Phosphoglycerate_dehydrogena...</td>\n",
       "      <td>gi|6666666.146852.1090|6666666.146852|NC_00293...</td>\n",
       "      <td>79.623</td>\n",
       "      <td>530</td>\n",
       "      <td>108</td>\n",
       "      <td>0</td>\n",
       "      <td>1</td>\n",
       "      <td>530</td>\n",
       "      <td>1</td>\n",
       "      <td>530</td>\n",
       "      <td>0.0</td>\n",
       "      <td>847.0</td>\n",
       "    </tr>\n",
       "    <tr>\n",
       "      <th>1</th>\n",
       "      <td>3PGA_AMINOACIDS|1|Phosphoglycerate_dehydrogena...</td>\n",
       "      <td>gi|749927.13.1727|749927.13|NC_014318.1|D-3-ph...</td>\n",
       "      <td>59.586</td>\n",
       "      <td>532</td>\n",
       "      <td>213</td>\n",
       "      <td>2</td>\n",
       "      <td>1</td>\n",
       "      <td>530</td>\n",
       "      <td>1</td>\n",
       "      <td>532</td>\n",
       "      <td>0.0</td>\n",
       "      <td>620.0</td>\n",
       "    </tr>\n",
       "    <tr>\n",
       "      <th>2</th>\n",
       "      <td>3PGA_AMINOACIDS|1|Phosphoglycerate_dehydrogena...</td>\n",
       "      <td>gi|1156913.7.6305|1156913.7|NC_021252.1|D-3-ph...</td>\n",
       "      <td>59.203</td>\n",
       "      <td>527</td>\n",
       "      <td>214</td>\n",
       "      <td>1</td>\n",
       "      <td>1</td>\n",
       "      <td>526</td>\n",
       "      <td>1</td>\n",
       "      <td>527</td>\n",
       "      <td>0.0</td>\n",
       "      <td>613.0</td>\n",
       "    </tr>\n",
       "    <tr>\n",
       "      <th>3</th>\n",
       "      <td>3PGA_AMINOACIDS|1|Phosphoglycerate_dehydrogena...</td>\n",
       "      <td>gi|6666666.104540.4265|6666666.104540|AOHO01|D...</td>\n",
       "      <td>59.203</td>\n",
       "      <td>527</td>\n",
       "      <td>214</td>\n",
       "      <td>1</td>\n",
       "      <td>1</td>\n",
       "      <td>526</td>\n",
       "      <td>1</td>\n",
       "      <td>527</td>\n",
       "      <td>0.0</td>\n",
       "      <td>612.0</td>\n",
       "    </tr>\n",
       "    <tr>\n",
       "      <th>4</th>\n",
       "      <td>3PGA_AMINOACIDS|1|Phosphoglycerate_dehydrogena...</td>\n",
       "      <td>gi|446462.15.6083|446462.15|NC_021252.1|D-3-ph...</td>\n",
       "      <td>60.338</td>\n",
       "      <td>532</td>\n",
       "      <td>209</td>\n",
       "      <td>2</td>\n",
       "      <td>1</td>\n",
       "      <td>530</td>\n",
       "      <td>1</td>\n",
       "      <td>532</td>\n",
       "      <td>0.0</td>\n",
       "      <td>595.0</td>\n",
       "    </tr>\n",
       "  </tbody>\n",
       "</table>\n",
       "</div>"
      ],
      "text/plain": [
       "                                               query  \\\n",
       "0  3PGA_AMINOACIDS|1|Phosphoglycerate_dehydrogena...   \n",
       "1  3PGA_AMINOACIDS|1|Phosphoglycerate_dehydrogena...   \n",
       "2  3PGA_AMINOACIDS|1|Phosphoglycerate_dehydrogena...   \n",
       "3  3PGA_AMINOACIDS|1|Phosphoglycerate_dehydrogena...   \n",
       "4  3PGA_AMINOACIDS|1|Phosphoglycerate_dehydrogena...   \n",
       "\n",
       "                                             subject  pc_identity  aln_length  \\\n",
       "0  gi|6666666.146852.1090|6666666.146852|NC_00293...       79.623         530   \n",
       "1  gi|749927.13.1727|749927.13|NC_014318.1|D-3-ph...       59.586         532   \n",
       "2  gi|1156913.7.6305|1156913.7|NC_021252.1|D-3-ph...       59.203         527   \n",
       "3  gi|6666666.104540.4265|6666666.104540|AOHO01|D...       59.203         527   \n",
       "4  gi|446462.15.6083|446462.15|NC_021252.1|D-3-ph...       60.338         532   \n",
       "\n",
       "   mismatches  gaps_opened  query_start  query_end  subject_start  \\\n",
       "0         108            0            1        530              1   \n",
       "1         213            2            1        530              1   \n",
       "2         214            1            1        526              1   \n",
       "3         214            1            1        526              1   \n",
       "4         209            2            1        530              1   \n",
       "\n",
       "   subject_end  e_value  bitscore  \n",
       "0          530      0.0     847.0  \n",
       "1          532      0.0     620.0  \n",
       "2          527      0.0     613.0  \n",
       "3          527      0.0     612.0  \n",
       "4          532      0.0     595.0  "
      ]
     },
     "execution_count": 41,
     "metadata": {},
     "output_type": "execute_result"
    }
   ],
   "source": [
    "df1.head()"
   ]
  },
  {
   "cell_type": "code",
   "execution_count": 6,
   "id": "5aab7289",
   "metadata": {},
   "outputs": [
    {
     "ename": "IndexError",
     "evalue": "list index out of range",
     "output_type": "error",
     "traceback": [
      "\u001b[0;31m---------------------------------------------------------------------------\u001b[0m",
      "\u001b[0;31mIndexError\u001b[0m                                Traceback (most recent call last)",
      "Cell \u001b[0;32mIn [6], line 17\u001b[0m\n\u001b[1;32m     15\u001b[0m \u001b[38;5;28;01mif\u001b[39;00m (genome_id \u001b[38;5;129;01min\u001b[39;00m df1[\u001b[38;5;124m\"\u001b[39m\u001b[38;5;124msubject\u001b[39m\u001b[38;5;124m\"\u001b[39m][index]) \u001b[38;5;241m&\u001b[39m (aux_list \u001b[38;5;241m==\u001b[39m []):\n\u001b[1;32m     16\u001b[0m     aux_list\u001b[38;5;241m=\u001b[39m\u001b[38;5;28mlist\u001b[39m(df1\u001b[38;5;241m.\u001b[39miloc[index])\n\u001b[0;32m---> 17\u001b[0m \u001b[38;5;28;01melif\u001b[39;00m ((genome_id \u001b[38;5;129;01min\u001b[39;00m df1[\u001b[38;5;124m\"\u001b[39m\u001b[38;5;124msubject\u001b[39m\u001b[38;5;124m\"\u001b[39m][index]) \u001b[38;5;241m&\u001b[39m (df1[\u001b[38;5;124m\"\u001b[39m\u001b[38;5;124mbitscore\u001b[39m\u001b[38;5;124m\"\u001b[39m][index] \u001b[38;5;241m>\u001b[39m aux_list[\u001b[38;5;241m11\u001b[39m])):\n\u001b[1;32m     18\u001b[0m     aux_list \u001b[38;5;241m=\u001b[39m \u001b[38;5;28mlist\u001b[39m(df1\u001b[38;5;241m.\u001b[39miloc[index])\n\u001b[1;32m     19\u001b[0m \u001b[38;5;28;01melse\u001b[39;00m:\n",
      "\u001b[0;31mIndexError\u001b[0m: list index out of range"
     ]
    }
   ],
   "source": [
    "#definimos el diccionario que será la salida:\n",
    "unique_in_first_blast = dict()\n",
    "#inicializamos el diccionario tomando por claves todas las enzimas\n",
    "# y por el momento asignando por valores listas vacías:\n",
    "for enzime in central_enzimes:\n",
    "    unique_in_first_blast[enzime] = list()\n",
    "    \n",
    "#definimos una lista auxiliar que nos permitirá quedarnos con la mejor\n",
    "# copia de la enzima presente en cada organismo \n",
    "\n",
    "aux_list = list()\n",
    "for enzime in central_enzimes:\n",
    "    for genome_id in genomes.keys():\n",
    "        for index in range(len(df1)):\n",
    "            if (genome_id in df1[\"subject\"][index]) & (aux_list == []):\n",
    "                aux_list=list(df1.iloc[index])\n",
    "            elif ((genome_id in df1[\"subject\"][index]) & (df1[\"bitscore\"][index] > aux_list[11])):\n",
    "                aux_list = list(df1.iloc[index])\n",
    "            else:\n",
    "                continue\n",
    "    unique_in_first_blast[enzime].append(aux_list)\n",
    "    "
   ]
  },
  {
   "cell_type": "code",
   "execution_count": 7,
   "id": "6fcfd9fa",
   "metadata": {},
   "outputs": [
    {
     "data": {
      "text/plain": [
       "array(['3PGA_AMINOACIDS|1|Phosphoglycerate_dehydrogenase_1|Cglu',\n",
       "       '3PGA_AMINOACIDS|1|Phosphoglycerate_dehydrogenase_2|Mtub',\n",
       "       '3PGA_AMINOACIDS|1|Phosphoglycerate_dehydrogenase_3|Mtub',\n",
       "       '3PGA_AMINOACIDS|1|Phosphoglycerate_dehydrogenase_4|Scoe',\n",
       "       '3PGA_AMINOACIDS|2|Phosphoserine_aminotransferase_1|none',\n",
       "       '3PGA_AMINOACIDS|2|Phosphoserine_aminotransferase_2|none',\n",
       "       '3PGA_AMINOACIDS|2|Phosphoserine_aminotransferase_3|none'],\n",
       "      dtype=object)"
      ]
     },
     "execution_count": 7,
     "metadata": {},
     "output_type": "execute_result"
    }
   ],
   "source": [
    "central_enzimes"
   ]
  },
  {
   "cell_type": "code",
   "execution_count": 8,
   "id": "8fd9e030",
   "metadata": {},
   "outputs": [
    {
     "data": {
      "text/plain": [
       "dict_keys(['6666666.385189', '1156913.7', '169133.3', '290340.24', '367928.21', '442563.11', '446462.15', '452863.24', '649831.6', '6666666.104540', '6666666.111158', '6666666.111572', '6666666.112811', '6666666.146813', '6666666.146852', '6666666.146872', '749927.13', '930171.11'])"
      ]
     },
     "execution_count": 8,
     "metadata": {},
     "output_type": "execute_result"
    }
   ],
   "source": [
    "genomes.keys()"
   ]
  },
  {
   "cell_type": "code",
   "execution_count": 14,
   "id": "d5bc09ab",
   "metadata": {},
   "outputs": [],
   "source": [
    "#definimos el diccionario que será la salida:\n",
    "unique_in_first_blast = dict()\n",
    "#inicializamos el diccionario tomando por claves todas las enzimas\n",
    "# y por el momento asignando por valores listas vacías:\n",
    "for enzime in central_enzimes:\n",
    "    unique_in_first_blast[enzime] = []\n",
    "    \n",
    "#definimos una lista auxiliar que nos permitirá quedarnos con la mejor\n",
    "# copia de la enzima presente en cada organismo \n",
    "\n",
    "#aux_list = list()\n",
    "for enzime in central_enzimes:\n",
    "    for genome_id in genomes.keys():\n",
    "        aux_list = []\n",
    "        if genome_id != \"6666666.385189\":\n",
    "            for index in range(len(df1)):\n",
    "                if (aux_list == []):\n",
    "                    if ((enzime == df1[\"query\"][index])&(genome_id in df1[\"subject\"][index])):\n",
    "                        aux_list = list(df1.iloc[index])\n",
    "                    else:\n",
    "                        continue\n",
    "                else:\n",
    "                    if ((enzime == df1[\"query\"][index]) & (genome_id in df1[\"subject\"][index]) & (df1[\"bitscore\"][index] > aux_list[11])):\n",
    "                        aux_list = list(df1.iloc[index])\n",
    "            if aux_list != []:  \n",
    "                unique_in_first_blast[enzime].append(aux_list)\n",
    "                \n"
   ]
  },
  {
   "cell_type": "code",
   "execution_count": 15,
   "id": "64f9f18e",
   "metadata": {},
   "outputs": [
    {
     "data": {
      "text/plain": [
       "[['3PGA_AMINOACIDS|2|Phosphoserine_aminotransferase_3|none',\n",
       "  'gi|1156913.7.7342|1156913.7|NC_021252.1|Phosphoserine_aminotransferase_(EC_2.6.1.52)|Amycolatopsis_orientalis_HCCB10007_NC_021252.1',\n",
       "  67.769,\n",
       "  363,\n",
       "  116,\n",
       "  1,\n",
       "  1,\n",
       "  363,\n",
       "  13,\n",
       "  374,\n",
       "  3.0300000000000004e-179,\n",
       "  503.0],\n",
       " ['3PGA_AMINOACIDS|2|Phosphoserine_aminotransferase_3|none',\n",
       "  'gi|169133.3.2262|169133.3|LAB|Phosphoserine_aminotransferase_(EC_2.6.1.52)|Citricoccus_sp_CH26_LAB',\n",
       "  68.32,\n",
       "  363,\n",
       "  115,\n",
       "  0,\n",
       "  1,\n",
       "  363,\n",
       "  12,\n",
       "  374,\n",
       "  0.0,\n",
       "  524.0],\n",
       " ['3PGA_AMINOACIDS|2|Phosphoserine_aminotransferase_3|none',\n",
       "  'gi|290340.24.1033|290340.24|NC_008711.1|Phosphoserine_aminotransferase_(EC_2.6.1.52)|Arthrobacter_aurescens_TC1_NC_008711.1',\n",
       "  67.493,\n",
       "  363,\n",
       "  118,\n",
       "  0,\n",
       "  1,\n",
       "  363,\n",
       "  12,\n",
       "  374,\n",
       "  0.0,\n",
       "  519.0],\n",
       " ['3PGA_AMINOACIDS|2|Phosphoserine_aminotransferase_3|none',\n",
       "  'gi|367928.21.407|367928.21|NC_008618.1|Phosphoserine_aminotransferase_(EC_2.6.1.52)|Bifidobacterium_adolescentis_ATCC_15703_NC_008618.1',\n",
       "  57.297,\n",
       "  370,\n",
       "  151,\n",
       "  2,\n",
       "  1,\n",
       "  363,\n",
       "  11,\n",
       "  380,\n",
       "  8.969999999999999e-152,\n",
       "  433.0],\n",
       " ['3PGA_AMINOACIDS|2|Phosphoserine_aminotransferase_3|none',\n",
       "  'gi|442563.11.458|442563.11|AD011|Phosphoserine_aminotransferase_(EC_2.6.1.52)|Bifidobacterium_animalis_subsp._lactis_AD011',\n",
       "  53.243,\n",
       "  370,\n",
       "  166,\n",
       "  2,\n",
       "  1,\n",
       "  363,\n",
       "  10,\n",
       "  379,\n",
       "  1.53e-142,\n",
       "  409.0],\n",
       " ['3PGA_AMINOACIDS|2|Phosphoserine_aminotransferase_3|none',\n",
       "  'gi|446462.15.520|446462.15|NC_021252.1|Phosphoserine_aminotransferase_(EC_2.6.1.52)|Actinosynnema_mirum_DSM_43827_NC_013093.1_NC_021252.1',\n",
       "  66.942,\n",
       "  363,\n",
       "  119,\n",
       "  1,\n",
       "  1,\n",
       "  363,\n",
       "  16,\n",
       "  377,\n",
       "  0.0,\n",
       "  514.0],\n",
       " ['3PGA_AMINOACIDS|2|Phosphoserine_aminotransferase_3|none',\n",
       "  'gi|452863.24.923|452863.24|NC_011886.1|Phosphoserine_aminotransferase_(EC_2.6.1.52)|Arthrobacter_chlorophenolicus_A6_NC_011886.1',\n",
       "  68.32,\n",
       "  363,\n",
       "  115,\n",
       "  0,\n",
       "  1,\n",
       "  363,\n",
       "  12,\n",
       "  374,\n",
       "  0.0,\n",
       "  524.0],\n",
       " ['3PGA_AMINOACIDS|2|Phosphoserine_aminotransferase_3|none',\n",
       "  'gi|649831.6.513|649831.6|NC_021191.1|Phosphoserine_aminotransferase_(EC_2.6.1.52)|Actinoplanes_sp._N902-109_NC_021191.1',\n",
       "  62.81,\n",
       "  363,\n",
       "  135,\n",
       "  0,\n",
       "  1,\n",
       "  363,\n",
       "  11,\n",
       "  373,\n",
       "  4.499999999999999e-170,\n",
       "  479.0],\n",
       " ['3PGA_AMINOACIDS|2|Phosphoserine_aminotransferase_3|none',\n",
       "  'gi|6666666.104540.2193|6666666.104540|AOHO01|Phosphoserine_aminotransferase_(EC_2.6.1.52)|Amycolatopsis_decaplanina_DSM_44594_AOHO01',\n",
       "  67.769,\n",
       "  363,\n",
       "  116,\n",
       "  1,\n",
       "  1,\n",
       "  363,\n",
       "  13,\n",
       "  374,\n",
       "  0.0,\n",
       "  521.0],\n",
       " ['3PGA_AMINOACIDS|2|Phosphoserine_aminotransferase_3|none',\n",
       "  'gi|6666666.111158.8940|6666666.111158|NC_0131311|Phosphoserine_aminotransferase_(EC_2.6.1.52)|Catenulispora_acidiphila_DSM_44928_NC_0131311',\n",
       "  73.003,\n",
       "  363,\n",
       "  98,\n",
       "  0,\n",
       "  1,\n",
       "  363,\n",
       "  10,\n",
       "  372,\n",
       "  0.0,\n",
       "  564.0],\n",
       " ['3PGA_AMINOACIDS|2|Phosphoserine_aminotransferase_3|none',\n",
       "  'gi|6666666.111572.2478|6666666.111572|NC_0094801|Phosphoserine_aminotransferase_(EC_2.6.1.52)|Clavibacter_michiganensis_subsp._michiganensis_NCPPB_382_NC_0094801',\n",
       "  64.641,\n",
       "  362,\n",
       "  126,\n",
       "  2,\n",
       "  1,\n",
       "  362,\n",
       "  302,\n",
       "  661,\n",
       "  1.79e-158,\n",
       "  460.0],\n",
       " ['3PGA_AMINOACIDS|2|Phosphoserine_aminotransferase_3|none',\n",
       "  'gi|6666666.112811.7991|6666666.112811|JOEF01|Phosphoserine_aminotransferase_(EC_2.6.1.52)|Allokutzneria_albata_JOEF01',\n",
       "  67.218,\n",
       "  363,\n",
       "  118,\n",
       "  1,\n",
       "  1,\n",
       "  363,\n",
       "  16,\n",
       "  377,\n",
       "  0.0,\n",
       "  513.0],\n",
       " ['3PGA_AMINOACIDS|2|Phosphoserine_aminotransferase_3|none',\n",
       "  'gi|6666666.146813.572|6666666.146813|NC_014550.1|Phosphoserine_aminotransferase_(EC_2.6.1.52)|Arthrobacter_arilaitensis_RE117_NC_014550.1',\n",
       "  61.708,\n",
       "  363,\n",
       "  139,\n",
       "  0,\n",
       "  1,\n",
       "  363,\n",
       "  11,\n",
       "  373,\n",
       "  6.15e-169,\n",
       "  476.0],\n",
       " ['3PGA_AMINOACIDS|2|Phosphoserine_aminotransferase_3|none',\n",
       "  'gi|6666666.146852.774|6666666.146852|NC_002935.2|Phosphoserine_aminotransferase_(EC_2.6.1.52)|Corynebacterium_diphtheriae_NCTC_13129_NC_002935.2',\n",
       "  61.326,\n",
       "  362,\n",
       "  139,\n",
       "  1,\n",
       "  1,\n",
       "  362,\n",
       "  11,\n",
       "  371,\n",
       "  7.62e-167,\n",
       "  471.0],\n",
       " ['3PGA_AMINOACIDS|2|Phosphoserine_aminotransferase_3|none',\n",
       "  'gi|6666666.146872.438|6666666.146872|NC_017803.1|Phosphoserine_aminotransferase_(EC_2.6.1.52)|Actinoplanes_sp._SE50/110_NC_017803.1',\n",
       "  60.055,\n",
       "  363,\n",
       "  145,\n",
       "  0,\n",
       "  1,\n",
       "  363,\n",
       "  12,\n",
       "  374,\n",
       "  1.28e-166,\n",
       "  471.0],\n",
       " ['3PGA_AMINOACIDS|2|Phosphoserine_aminotransferase_3|none',\n",
       "  'gi|749927.13.8695|749927.13|NC_014318.1|Phosphoserine_aminotransferase_(EC_2.6.1.52)|Amycolatopsis_mediterranei_U32_NC_014318.1',\n",
       "  68.871,\n",
       "  363,\n",
       "  112,\n",
       "  1,\n",
       "  1,\n",
       "  363,\n",
       "  12,\n",
       "  373,\n",
       "  0.0,\n",
       "  527.0],\n",
       " ['3PGA_AMINOACIDS|2|Phosphoserine_aminotransferase_3|none',\n",
       "  'gi|930171.11.818|930171.11|NC_015145.1|Phosphoserine_aminotransferase_(EC_2.6.1.52)|Arthrobacter_phenanthrenivorans_Sphe3_NC_015145.1',\n",
       "  67.218,\n",
       "  363,\n",
       "  119,\n",
       "  0,\n",
       "  1,\n",
       "  363,\n",
       "  12,\n",
       "  374,\n",
       "  0.0,\n",
       "  518.0]]"
      ]
     },
     "execution_count": 15,
     "metadata": {},
     "output_type": "execute_result"
    }
   ],
   "source": [
    "unique_in_first_blast[\"3PGA_AMINOACIDS|2|Phosphoserine_aminotransferase_3|none\"]"
   ]
  },
  {
   "cell_type": "code",
   "execution_count": 13,
   "id": "abdf3a65",
   "metadata": {},
   "outputs": [
    {
     "data": {
      "text/plain": [
       "119"
      ]
     },
     "execution_count": 13,
     "metadata": {},
     "output_type": "execute_result"
    }
   ],
   "source": [
    "total = 0\n",
    "for enz in central_enzimes:\n",
    "        total = total + len(unique_in_first_blast[enz])\n",
    "total"
   ]
  },
  {
   "cell_type": "markdown",
   "id": "0a054be1",
   "metadata": {},
   "source": [
    "### NOTA: En la base de datos de genomas está de más el genoma con id = 6666666.385189"
   ]
  },
  {
   "cell_type": "markdown",
   "id": "3f060dbd",
   "metadata": {},
   "source": [
    "Unique de Genomes vs EF:"
   ]
  },
  {
   "cell_type": "code",
   "execution_count": 11,
   "id": "f45f9e38",
   "metadata": {},
   "outputs": [],
   "source": [
    "df2 = pd.read_csv('/home/csar/Proyectos/Posdoc/Proyecto_pos/dev_package/data/data_bases/blastp/genomes_to_central/genomes_to_central.blast', sep = \"\\t\", names = CTS.BLAST_COLS )"
   ]
  },
  {
   "cell_type": "code",
   "execution_count": 12,
   "id": "768403a1",
   "metadata": {},
   "outputs": [],
   "source": [
    "#definimos el diccionario que será la salida:\n",
    "unique_in_second_blast = dict()\n",
    "#inicializamos el diccionario tomando por claves todas las enzimas\n",
    "# y por el momento asignando por valores listas vacías:\n",
    "for genome_id in genomes.keys():\n",
    "    if genome_id != \"6666666.385189\":\n",
    "        unique_in_second_blast[genome_id] = []\n",
    "    else:\n",
    "        continue\n",
    "\n",
    "#definimos una lista auxiliar que nos permitirá quedarnos con la mejor\n",
    "# copia de la enzima presente en cada organismo \n",
    "\n",
    "\n",
    "for genome_id in genomes.keys():\n",
    "    if genome_id != \"6666666.385189\":\n",
    "        for enzime in central_enzimes:\n",
    "            aux_list = []\n",
    "            for index in range(len(df2)):\n",
    "                if (aux_list == []):\n",
    "                    if ((genome_id in df2[\"query\"][index])&(enzime in df2[\"subject\"][index])):\n",
    "                        aux_list = list(df2.iloc[index])\n",
    "                    else:\n",
    "                        continue\n",
    "                else:\n",
    "                    if ((genome_id in df2[\"query\"][index]) & (enzime in df2[\"subject\"][index]) & (df2[\"bitscore\"][index] > aux_list[11])):\n",
    "                    \n",
    "                        aux_list = list(df2.iloc[index])\n",
    "            if aux_list != []:  \n",
    "                unique_in_second_blast[genome_id].append(aux_list)\n"
   ]
  },
  {
   "cell_type": "markdown",
   "id": "6e2cfb07",
   "metadata": {},
   "source": [
    "### Prueba de bio.genbank package:"
   ]
  },
  {
   "cell_type": "code",
   "execution_count": 19,
   "id": "672cc1c6",
   "metadata": {},
   "outputs": [],
   "source": [
    "from taxonomy_ranks import TaxonomyRanks"
   ]
  },
  {
   "cell_type": "code",
   "execution_count": 30,
   "id": "9ebbadf1",
   "metadata": {},
   "outputs": [],
   "source": [
    "taxa_name = 'Actinomadura hibisca'\n",
    "\n",
    "rank_taxon = TaxonomyRanks(taxa_name)"
   ]
  },
  {
   "cell_type": "code",
   "execution_count": 31,
   "id": "58404e86",
   "metadata": {},
   "outputs": [
    {
     "data": {
      "text/plain": [
       "taxonomy_ranks.get_taxonomy_rank_with_ete3_with_super_and_sub.TaxonomyRanks"
      ]
     },
     "execution_count": 31,
     "metadata": {},
     "output_type": "execute_result"
    }
   ],
   "source": [
    "type(rank_taxon)"
   ]
  },
  {
   "cell_type": "code",
   "execution_count": 32,
   "id": "58c4f3ba",
   "metadata": {},
   "outputs": [],
   "source": [
    "rank_taxon.get_lineage_taxids_and_taxanames()\n"
   ]
  },
  {
   "cell_type": "code",
   "execution_count": 33,
   "id": "67fd8f50",
   "metadata": {},
   "outputs": [],
   "source": [
    "ranks = ('user_taxa', 'taxa_searched', 'superkingdom', 'kingdom', 'superphylum', 'phylum', 'subphylum', 'superclass', 'class', 'subclass', 'superorder', 'order', 'suborder', 'superfamily', 'family', 'subfamily', 'genus', 'subgenus', 'species')"
   ]
  },
  {
   "cell_type": "code",
   "execution_count": 34,
   "id": "fb84a64f",
   "metadata": {},
   "outputs": [
    {
     "name": "stdout",
     "output_type": "stream",
     "text": [
      "68565\tuser_taxa\tActinomadura hibisca\n",
      "68565\ttaxa_searched\tActinomadura hibisca\n",
      "68565\tsuperkingdom\tBacteria\t2\n",
      "68565\tkingdom\tNA\tNA\n",
      "68565\tsuperphylum\tNA\tNA\n",
      "68565\tphylum\tActinomycetota\t201174\n",
      "68565\tsubphylum\tNA\tNA\n",
      "68565\tsuperclass\tNA\tNA\n",
      "68565\tclass\tActinomycetes\t1760\n",
      "68565\tsubclass\tNA\tNA\n",
      "68565\tsuperorder\tNA\tNA\n",
      "68565\torder\tStreptosporangiales\t85012\n",
      "68565\tsuborder\tNA\tNA\n",
      "68565\tsuperfamily\tNA\tNA\n",
      "68565\tfamily\tThermomonosporaceae\t2012\n",
      "68565\tsubfamily\tNA\tNA\n",
      "68565\tgenus\tActinomadura\t1988\n",
      "68565\tsubgenus\tNA\tNA\n",
      "68565\tspecies\tActinomadura hibisca\t68565\n"
     ]
    }
   ],
   "source": [
    "for potential_taxid in rank_taxon.lineages:\n",
    "     for rank in ranks:\n",
    "         if rank in ('user_taxa', 'taxa_searched'):\n",
    "             taxon = rank_taxon.lineages[potential_taxid][rank]\n",
    "             print(potential_taxid, rank, taxon, sep='\\t')\n",
    "         else:\n",
    "             taxon, taxid_of_taxon = rank_taxon.lineages[potential_taxid][rank]\n",
    "             print(potential_taxid, rank, taxon, taxid_of_taxon, sep='\\t')\n"
   ]
  },
  {
   "cell_type": "code",
   "execution_count": null,
   "id": "eb4ee6c7",
   "metadata": {},
   "outputs": [],
   "source": []
  }
 ],
 "metadata": {
  "kernelspec": {
   "display_name": "Python (bioenv)",
   "language": "python",
   "name": "bioenv"
  },
  "language_info": {
   "codemirror_mode": {
    "name": "ipython",
    "version": 3
   },
   "file_extension": ".py",
   "mimetype": "text/x-python",
   "name": "python",
   "nbconvert_exporter": "python",
   "pygments_lexer": "ipython3",
   "version": "3.10.6"
  }
 },
 "nbformat": 4,
 "nbformat_minor": 5
}
