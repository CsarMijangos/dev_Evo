{
 "cells": [
  {
   "cell_type": "code",
   "execution_count": 1,
   "id": "ee350533",
   "metadata": {},
   "outputs": [],
   "source": [
    "import os\n",
    "import sys\n",
    "import pandas as pd\n",
    "\n",
    "import evo_helpers as hlp\n",
    "import evo_constants as CTS"
   ]
  },
  {
   "cell_type": "code",
   "execution_count": null,
   "id": "c35ea934",
   "metadata": {},
   "outputs": [],
   "source": [
    "hlp.welcome()"
   ]
  },
  {
   "cell_type": "code",
   "execution_count": null,
   "id": "c37a782c",
   "metadata": {},
   "outputs": [],
   "source": [
    "#from importlib import reload\n",
    "#reload(evo_helpers)\n",
    "\n",
    "opt = hlp.option_menu()"
   ]
  },
  {
   "cell_type": "code",
   "execution_count": null,
   "id": "fd17f884",
   "metadata": {},
   "outputs": [],
   "source": [
    "class Evomining:\n",
    "    \"\"\"This class creates an evomining object.\n",
    "    Its methods permit to access to the evomining\n",
    "    funtionality.\n",
    "    \"\"\"\n",
    "\n",
    "    def __init__(self, centralDB,evo_genomesDB, nat_prodsDB):\n",
    "        self.central = centralDB\n",
    "        self.genomesDB = evo_genomesDB\n",
    "        self.nat_prods = nat_prodsDB"
   ]
  },
  {
   "cell_type": "code",
   "execution_count": null,
   "id": "6fc4b6a7",
   "metadata": {},
   "outputs": [],
   "source": [
    "## obtener las bases de datos del usuario\n",
    "\n",
    "#from importlib import reload\n",
    "#reload(evo_helpers)\n",
    "\n",
    "## option 1 precharged example:\n",
    "if opt == 1:\n",
    "    hlp.make_all_evo_headers(CTS.EXMPL_DB[\"genomes\"],\n",
    "                                 CTS.EXMPL_DB[\"rast_ids\"])\n",
    "    hlp.join_evo_headers_files()\n",
    "    hlp.remove_evo_headers_files()\n",
    "    \n",
    "    evo_genomes_path = CTS.EVO_GENOMES_DB\n",
    "    \n",
    "    #evomining = EvoMining(cts.EXML_DB[\"central\"],\n",
    "    #                      cts.EXMPL_DB[\"genomes\"],\n",
    "    #                      cts.EXMPL_DB[\"nat_prods\"])\n",
    "    #evomining.run()\n",
    "## option 2 user databases:\n",
    "else: \n",
    "    user_dbs = hlp.get_dbs()\n",
    "    hlp.make_all_evo_headers(user_dbs[\"genomes\"], \n",
    "                             user_dbs[\"rast_ids\"])\n",
    "    hlp.join_evo_headers_files()\n",
    "    hlp.remove_evo_headers_files()\n",
    "    \n",
    "    user_dbs[\"genomes\"] = CTS.EVO_GENOMES_DB\n",
    "    \n",
    "    evomining = EvoMining(user_dbs[\"central\"],\n",
    "                         user_dbs[\"genomes\"],\n",
    "                         user_dbs[\"nat_prods\"])\n",
    "    #evomining.run()\n",
    "\n",
    "#evomining.run()"
   ]
  },
  {
   "cell_type": "markdown",
   "id": "8b349be4",
   "metadata": {},
   "source": [
    "## Obtener los archivos .faa con los encabezados en formato evomining:\n",
    "### Los nuevos .faa individuales se guardan en data/aux_data/  (se borran una vez utilizados)\n",
    "### La base de datos con encabezados de evomining se guarda en /data/data_bases/evo_genomes_db/"
   ]
  },
  {
   "cell_type": "code",
   "execution_count": null,
   "id": "696da2e1",
   "metadata": {},
   "outputs": [],
   "source": [
    "#from importlib import reload\n",
    "#reload(evo_helpers)\n",
    "\n",
    "genomes_db = \"/home/csar/Proyectos/Posdoc/Proyecto_pos/dev_package/data/data_bases/example/genomes/los17\"\n",
    "Rast_ids = \"/home/csar/Proyectos/Posdoc/Proyecto_pos/dev_package/data/data_bases/example/genomes/los17Rast.ids\"\n",
    "hlp.make_all_evo_headers(genomes_db, Rast_ids)\n",
    "hlp.join_evo_headers_files()\n",
    "#hlp.remove_evo_headers_files()"
   ]
  },
  {
   "cell_type": "markdown",
   "id": "a8d0f4d3",
   "metadata": {},
   "source": [
    "## Aplicar makeblastdb a las bases de datos que necesitaremos:"
   ]
  },
  {
   "cell_type": "code",
   "execution_count": null,
   "id": "996103de",
   "metadata": {},
   "outputs": [],
   "source": [
    "hlp.makeblast_db(CTS.EVO_GENOMES_DB)"
   ]
  },
  {
   "cell_type": "code",
   "execution_count": null,
   "id": "942d751a",
   "metadata": {},
   "outputs": [],
   "source": [
    "hlp.makeblast_db(CTS.EXMPL_DB[\"central\"])\n"
   ]
  },
  {
   "cell_type": "code",
   "execution_count": null,
   "id": "292f2df2",
   "metadata": {},
   "outputs": [],
   "source": [
    "hlp.makeblast_db(CTS.EXMPL_DB[\"nat_prods\"])"
   ]
  },
  {
   "cell_type": "markdown",
   "id": "53e73461",
   "metadata": {},
   "source": [
    "## Obtener los blastp entre la base de datos central vs la base de datos de genomas:"
   ]
  },
  {
   "cell_type": "code",
   "execution_count": null,
   "id": "da5384c0",
   "metadata": {},
   "outputs": [],
   "source": [
    "blastdb_path = CTS.BLASTDBs_PATH + 'evo_genomes_db_blastdb/'\n",
    "            \n",
    "hlp.apply_blastp(CTS.EXMPL_DB[\"central\"], blastdb_path)"
   ]
  },
  {
   "cell_type": "code",
   "execution_count": null,
   "id": "ebc9aa70",
   "metadata": {},
   "outputs": [],
   "source": [
    "CTS.EVO_GENOMES_DB"
   ]
  },
  {
   "cell_type": "markdown",
   "id": "3e22b24f",
   "metadata": {},
   "source": [
    "## Obtener los blastp entre la base de datos de genomas vs la base de datos central:"
   ]
  },
  {
   "cell_type": "code",
   "execution_count": null,
   "id": "70239247",
   "metadata": {},
   "outputs": [],
   "source": [
    "blastdb_path = CTS.BLASTDBs_PATH + 'central_blastdb/'\n",
    "            \n",
    "hlp.apply_blastp(CTS.EVO_GENOMES_DB, blastdb_path)"
   ]
  },
  {
   "cell_type": "markdown",
   "id": "d1b1b9ac",
   "metadata": {},
   "source": [
    "## Obtener los BBH:"
   ]
  },
  {
   "cell_type": "markdown",
   "id": "e78c3eae",
   "metadata": {},
   "source": [
    "### Obtener los mejores elementos únicos del blast de metabolismo central vs genomas: \n",
    "### Estos se guardarán en un diccionario de la forma:\n",
    "### { enzima_i : mejor_copia_en_el_organismo_k }\n",
    "### donde i recorre todas las enzimas en el metabolismo central, y k recorre todos los genomas.\n",
    "### - Considerar solo con bitscore >= 100 e E_value < 0.001 "
   ]
  },
  {
   "cell_type": "code",
   "execution_count": null,
   "id": "791b41e0",
   "metadata": {},
   "outputs": [],
   "source": [
    "df1 = pd.read_csv('/home/csar/Proyectos/Posdoc/Proyecto_pos/dev_package/data/data_bases/blastp/central_to_genomes/central_to_genomes.blast', sep = \"\\t\", names = CTS.BLAST_COLS)"
   ]
  },
  {
   "cell_type": "code",
   "execution_count": null,
   "id": "d65a289e",
   "metadata": {},
   "outputs": [],
   "source": [
    "central_enzimes = df1['query'].unique() ##Lista con las enzimas del metabolismo central\n",
    "genomes = hlp.dict_ids_to_names_genomes(CTS.EXMPL_DB[\"rast_ids\"]) ## Diccio con los genomas de la base de genomas"
   ]
  },
  {
   "cell_type": "code",
   "execution_count": null,
   "id": "6fcfd9fa",
   "metadata": {},
   "outputs": [],
   "source": [
    "central_enzimes"
   ]
  },
  {
   "cell_type": "code",
   "execution_count": null,
   "id": "8fd9e030",
   "metadata": {},
   "outputs": [],
   "source": [
    "genomes.keys()"
   ]
  },
  {
   "cell_type": "code",
   "execution_count": null,
   "id": "d5bc09ab",
   "metadata": {},
   "outputs": [],
   "source": [
    "#definimos el diccionario que será la salida:\n",
    "unique_in_first_blast = dict()\n",
    "#inicializamos el diccionario tomando por claves todas las enzimas\n",
    "# y por el momento asignando por valores listas vacías:\n",
    "for enzime in central_enzimes:\n",
    "    unique_in_first_blast[enzime] = []\n",
    "    \n",
    "#definimos una lista auxiliar que nos permitirá quedarnos con la mejor\n",
    "# copia de la enzima presente en cada organismo \n",
    "\n",
    "#aux_list = list()\n",
    "for enzime in central_enzimes:\n",
    "    for genome_id in genomes.keys():\n",
    "        aux_list = []\n",
    "        if genome_id != \"6666666.385189\":\n",
    "            for index in range(len(df1)):\n",
    "                if (aux_list == []):\n",
    "                    if ((enzime == df1[\"query\"][index])&(genome_id in df1[\"subject\"][index])):\n",
    "                        aux_list = list(df1.iloc[index])\n",
    "                    else:\n",
    "                        continue\n",
    "                else:\n",
    "                    if ((enzime == df1[\"query\"][index]) & (genome_id in df1[\"subject\"][index]) & (df1[\"bitscore\"][index] > aux_list[11])):\n",
    "                        aux_list = list(df1.iloc[index])\n",
    "            if aux_list != []:  \n",
    "                unique_in_first_blast[enzime].append(aux_list)\n",
    "                \n"
   ]
  },
  {
   "cell_type": "code",
   "execution_count": null,
   "id": "64f9f18e",
   "metadata": {},
   "outputs": [],
   "source": [
    "unique_in_first_blast[\"3PGA_AMINOACIDS|2|Phosphoserine_aminotransferase_3|none\"]"
   ]
  },
  {
   "cell_type": "code",
   "execution_count": null,
   "id": "abdf3a65",
   "metadata": {},
   "outputs": [],
   "source": [
    "total = 0\n",
    "for enz in central_enzimes:\n",
    "        total = total + len(unique_in_first_blast[enz])\n",
    "total"
   ]
  },
  {
   "cell_type": "markdown",
   "id": "0a054be1",
   "metadata": {},
   "source": [
    "### NOTA: En la base de datos de genomas está de más el genoma con id = 6666666.385189"
   ]
  },
  {
   "cell_type": "markdown",
   "id": "3f060dbd",
   "metadata": {},
   "source": [
    "Unique de Genomes vs EF:"
   ]
  },
  {
   "cell_type": "code",
   "execution_count": null,
   "id": "f45f9e38",
   "metadata": {},
   "outputs": [],
   "source": [
    "df2 = pd.read_csv('/home/csar/Proyectos/Posdoc/Proyecto_pos/dev_package/data/data_bases/blastp/genomes_to_central/genomes_to_central.blast', sep = \"\\t\", names = CTS.BLAST_COLS )"
   ]
  },
  {
   "cell_type": "code",
   "execution_count": null,
   "id": "17519f45",
   "metadata": {},
   "outputs": [],
   "source": [
    "df2.head()"
   ]
  },
  {
   "cell_type": "code",
   "execution_count": null,
   "id": "e0ccaba1",
   "metadata": {},
   "outputs": [],
   "source": [
    "len(genomes.keys())\n",
    "    "
   ]
  },
  {
   "cell_type": "code",
   "execution_count": null,
   "id": "768403a1",
   "metadata": {},
   "outputs": [],
   "source": [
    "#definimos el diccionario que será la salida:\n",
    "unique_in_second_blast = dict()\n",
    "#inicializamos el diccionario tomando por claves todas las enzimas\n",
    "# y por el momento asignando por valores listas vacías:\n",
    "for genome_id in genomes.keys():\n",
    "    if genome_id != \"6666666.385189\":\n",
    "        unique_in_second_blast[genome_id] = []\n",
    "    else:\n",
    "        continue\n",
    "\n",
    "#definimos una lista auxiliar que nos permitirá quedarnos con la mejor\n",
    "# copia de la enzima presente en cada organismo \n",
    "\n",
    "\n",
    "for genome_id in genomes.keys():\n",
    "    if genome_id != \"6666666.385189\":\n",
    "        for enzime in central_enzimes:\n",
    "            aux_list = []\n",
    "            for index in range(len(df2)):\n",
    "                if (aux_list == []):\n",
    "                    if ((genome_id in df2[\"query\"][index])&(enzime in df2[\"subject\"][index])):\n",
    "                        aux_list = list(df2.iloc[index])\n",
    "                    else:\n",
    "                        continue\n",
    "                else:\n",
    "                    if ((genome_id in df2[\"query\"][index]) & (enzime in df2[\"subject\"][index]) & (df2[\"bitscore\"][index] > aux_list[11])):\n",
    "                    \n",
    "                        aux_list = list(df2.iloc[index])\n",
    "            if aux_list != []:  \n",
    "                unique_in_second_blast[genome_id].append(aux_list)\n"
   ]
  },
  {
   "cell_type": "markdown",
   "id": "6e2cfb07",
   "metadata": {},
   "source": [
    "### Prueba de bio.genbank package:"
   ]
  },
  {
   "cell_type": "code",
   "execution_count": null,
   "id": "672cc1c6",
   "metadata": {},
   "outputs": [],
   "source": [
    "from taxonomy_ranks import TaxonomyRanks"
   ]
  },
  {
   "cell_type": "code",
   "execution_count": null,
   "id": "9ebbadf1",
   "metadata": {},
   "outputs": [],
   "source": [
    "taxa_name = 'Actinomadura hibisca'\n",
    "\n",
    "rank_taxon = TaxonomyRanks(taxa_name)"
   ]
  },
  {
   "cell_type": "code",
   "execution_count": null,
   "id": "58404e86",
   "metadata": {},
   "outputs": [],
   "source": [
    "type(rank_taxon)"
   ]
  },
  {
   "cell_type": "code",
   "execution_count": null,
   "id": "58c4f3ba",
   "metadata": {},
   "outputs": [],
   "source": [
    "rank_taxon.get_lineage_taxids_and_taxanames()\n"
   ]
  },
  {
   "cell_type": "code",
   "execution_count": null,
   "id": "67fd8f50",
   "metadata": {},
   "outputs": [],
   "source": [
    "ranks = ('user_taxa', 'taxa_searched', 'superkingdom', 'kingdom', 'superphylum', 'phylum', 'subphylum', 'superclass', 'class', 'subclass', 'superorder', 'order', 'suborder', 'superfamily', 'family', 'subfamily', 'genus', 'subgenus', 'species')"
   ]
  },
  {
   "cell_type": "code",
   "execution_count": null,
   "id": "fb84a64f",
   "metadata": {},
   "outputs": [],
   "source": [
    "for potential_taxid in rank_taxon.lineages:\n",
    "     for rank in ranks:\n",
    "         if rank in ('user_taxa', 'taxa_searched'):\n",
    "             taxon = rank_taxon.lineages[potential_taxid][rank]\n",
    "             print(potential_taxid, rank, taxon, sep='\\t')\n",
    "         else:\n",
    "             taxon, taxid_of_taxon = rank_taxon.lineages[potential_taxid][rank]\n",
    "             print(potential_taxid, rank, taxon, taxid_of_taxon, sep='\\t')\n"
   ]
  },
  {
   "cell_type": "markdown",
   "id": "2a34ffbd",
   "metadata": {},
   "source": [
    "## Probar helpers para BBH:\n",
    "**<center>1.- best_hit_central_to_orgs:</center>**"
   ]
  },
  {
   "cell_type": "code",
   "execution_count": null,
   "id": "ae41195d",
   "metadata": {},
   "outputs": [],
   "source": [
    "import evo_helpers as hlp\n",
    "import evo_constants as CTS"
   ]
  },
  {
   "cell_type": "code",
   "execution_count": null,
   "id": "a3a1ed0e",
   "metadata": {},
   "outputs": [],
   "source": [
    "blast_File = '/home/csar/Proyectos/Posdoc/Proyecto_pos/dev_package/data/data_bases/blastp/central_to_genomes/central_to_genomes.blast'\n",
    "rast_Ids = CTS.EXMPL_DB[\"rast_ids\"]"
   ]
  },
  {
   "cell_type": "code",
   "execution_count": null,
   "id": "286fc82b",
   "metadata": {},
   "outputs": [],
   "source": [
    "#Crea el archivo central_to_orgs_bh.uniq:\n",
    "hlp.best_hit_central_to_orgs(blast_File)"
   ]
  },
  {
   "cell_type": "code",
   "execution_count": null,
   "id": "7a117775",
   "metadata": {},
   "outputs": [],
   "source": [
    "hlp.ids_to_names_genomes_file(rast_Ids)"
   ]
  },
  {
   "cell_type": "markdown",
   "id": "b9b3e61d",
   "metadata": {},
   "source": [
    "### best_hit_central_to_genomes está bien!"
   ]
  },
  {
   "cell_type": "code",
   "execution_count": null,
   "id": "f0b88a25",
   "metadata": {},
   "outputs": [],
   "source": [
    "def make_central_file_info():\n",
    "    \"\"\"This function creates a file with the names of all\n",
    "    the elements in central_db.\n",
    "    \"\"\"\n",
    "    central_fasta_file_path = CTS.EXMPL_DB[\"central\"] + \"central.fasta\"\n",
    "    output_path = CTS.BBH_aux_files + \"central_enzimes.txt\"\n",
    "    with open(central_fasta_file_path,\"r\") as fasta_file:\n",
    "        with open(output_path, \"w\") as output:\n",
    "            for line in fasta_file:\n",
    "                if \">\" in line:\n",
    "                    Line = line.split(\">\")[1]\n",
    "                    output.write(Line)\n",
    "    return\n",
    "\n",
    "make_central_file_info()"
   ]
  },
  {
   "cell_type": "code",
   "execution_count": null,
   "id": "6f93857e",
   "metadata": {},
   "outputs": [],
   "source": [
    "def ids_to_names_genomes_file(file_rast_ids):\n",
    "    \"\"\" This function returns a file with the genome id's as keys\n",
    "    and the genome's names as values. The input file_rast_ids is the Rast.ids\n",
    "    file within the genomes' database.\n",
    "    \"\"\"\n",
    "    \n",
    "    \n",
    "    output_path = CTS.BBH_aux_files + \"ids_to_orgs_names.txt\"\n",
    "    with open(file_rast_ids, \"r\") as file:\n",
    "        with open(output_path, \"w\") as output:\n",
    "            for line in file:\n",
    "                Line = line.split(\"\\t\")[1] + \"-->\" + line.split(\"\\t\")[2]\n",
    "                output.write(Line)\n",
    "            \n",
    "    return \n",
    "rast_ids_File = CTS.EXMPL_DB[\"rast_ids\"]\n",
    "ids_to_names_genomes_file(rast_ids_File)"
   ]
  },
  {
   "cell_type": "markdown",
   "id": "603dda8e",
   "metadata": {},
   "source": [
    "# Por hacer:\n",
    "- Agregar una parte en la que se creen todos los archivos auxiliares al comienzo de la rutina, para que estén disponibles en las subrutinas."
   ]
  },
  {
   "cell_type": "code",
   "execution_count": null,
   "id": "f1d8632f",
   "metadata": {},
   "outputs": [],
   "source": []
  },
  {
   "cell_type": "markdown",
   "id": "b8d00f70",
   "metadata": {},
   "source": [
    "## Prueba best hit 1 con archivos:"
   ]
  },
  {
   "cell_type": "code",
   "execution_count": null,
   "id": "5a859ed8",
   "metadata": {},
   "outputs": [],
   "source": [
    "def best_hit_central_to_orgs(blast_file):\n",
    "    \"\"\" This function will obtain the best hit from central to organisms. Its output \n",
    "    is a file with these hits. From the output we will obtain the expanded families.\n",
    "    \"\"\"\n",
    "    \n",
    "    # Charge the dataframe with the blastp file:\n",
    "    df = pd.read_csv(blast_file, sep = '\\t', names = CTS.BLAST_COLS)\n",
    "    \n",
    "    #Obtain the different central enzimes:\n",
    "    #central_enzimes = df['query'].unique()\n",
    "    \n",
    "    #Files with the enzimes and orgs info:\n",
    "    central_enzimes_file = CTS.BBH_aux_files + 'central_enzimes.txt'\n",
    "    central_enzimes = []\n",
    "    with open(central_enzimes_file, \"r\") as central_file:\n",
    "        for line in central_file:\n",
    "            if line:\n",
    "                central_enzimes.append(line.rstrip(\"\\n\"))\n",
    "    \n",
    "    ids_to_orgs_names_file = CTS.BBH_aux_files + 'ids_to_orgs_names.txt'\n",
    "    genomes = dict()\n",
    "    with open(ids_to_orgs_names_file, \"r\") as orgs_file:\n",
    "        for line in orgs_file:\n",
    "            if line:\n",
    "                key = line.split(\"-->\")[0]\n",
    "                value = line.split(\"-->\")[1]\n",
    "                genomes[key] = value\n",
    "    \n",
    "    #Obtain a dictionary of the form {genome_id: \"organism_name\"}\n",
    "    #genomes = dict_ids_to_names_genomes(rast_ids)\n",
    "    \n",
    "    #Define and initialize the output dictionary:\n",
    "    unique_central_to_genomes = dict()\n",
    "    for enzime in central_enzimes:\n",
    "        unique_central_to_genomes[enzime] = []\n",
    "        \n",
    "    # Finding the best hit:\n",
    "    for enzime in central_enzimes:\n",
    "        for genome_id in genomes.keys():\n",
    "            aux_list = []\n",
    "            if genome_id != \"6666666.385189\":\n",
    "                for index in range(len(df)):\n",
    "                    if (aux_list == []):\n",
    "                        if ((enzime == df[\"query\"][index])&(genome_id in df[\"subject\"][index])):\n",
    "                            aux_list = list(df.iloc[index])\n",
    "                        else:\n",
    "                            continue\n",
    "                    else:\n",
    "                        if ((enzime == df[\"query\"][index]) & (genome_id in df[\"subject\"][index]) & (df[\"bitscore\"][index] > aux_list[11])):\n",
    "                            aux_list = list(df.iloc[index])\n",
    "                if aux_list != []:  \n",
    "                    unique_central_to_genomes[enzime].append(aux_list)\n",
    "     \n",
    "    return unique_central_to_genomes"
   ]
  },
  {
   "cell_type": "code",
   "execution_count": null,
   "id": "ad249d44",
   "metadata": {
    "scrolled": true
   },
   "outputs": [],
   "source": [
    "test = best_hit_central_to_orgs(blast_File)\n",
    "tot = 0\n",
    "for enz in test:\n",
    "    tot += len(test[enz])\n",
    "tot"
   ]
  },
  {
   "cell_type": "code",
   "execution_count": null,
   "id": "674fa004",
   "metadata": {},
   "outputs": [],
   "source": [
    "def best_hit_central_to_orgs_2(blast_file):\n",
    "    \"\"\" This function will obtain the best hit from central to organisms. Its output \n",
    "    is a file with these hits. From the output we will obtain the expanded families.\n",
    "    \"\"\"\n",
    "    \n",
    "    # Charge the dataframe with the blastp file:\n",
    "    df = pd.read_csv(blast_file, sep = '\\t', names = CTS.BLAST_COLS)\n",
    "    \n",
    "    ### SE NECESITA QUE LOS ARCHIVOS AUXILIARES ESTÉN CREADOS ###\n",
    "    #Files with the enzimes and orgs info:\n",
    "    \n",
    "    # Make a list with the enzimes:\n",
    "    central_enzimes_file = CTS.BBH_aux_files + 'central_enzimes.txt'\n",
    "    central_enzimes = []\n",
    "    with open(central_enzimes_file, \"r\") as central_file:\n",
    "        for line in central_file:\n",
    "            if line:\n",
    "                central_enzimes.append(line.rstrip(\"\\n\"))\n",
    "    \n",
    "    \n",
    "    # Make a dictionary with the ids and names of organisms:\n",
    "    ids_to_orgs_names_file = CTS.BBH_aux_files + 'ids_to_orgs_names.txt'\n",
    "    genomes = dict()\n",
    "    with open(ids_to_orgs_names_file, \"r\") as orgs_file:\n",
    "        for line in orgs_file:\n",
    "            if line:\n",
    "                key = line.split(\"-->\")[0]\n",
    "                value = line.split(\"-->\")[1]\n",
    "                genomes[key] = value\n",
    "    \n",
    "    \n",
    "    \n",
    "    #Define and initialize the output dictionary:\n",
    "    unique_central_to_genomes = dict()\n",
    "    for enzime in central_enzimes:\n",
    "        unique_central_to_genomes[enzime] = []\n",
    "        \n",
    "    # Finding the best hit:\n",
    "    for enzime in central_enzimes:\n",
    "        for genome_id in genomes.keys():\n",
    "            aux_list = []\n",
    "            \n",
    "            for index in range(len(df)):\n",
    "                if (aux_list == []):\n",
    "                    if ((enzime == df[\"query\"][index])&(genome_id in df[\"subject\"][index])):\n",
    "                        aux_list = list(df.iloc[index])\n",
    "                    else:\n",
    "                        continue\n",
    "                else:\n",
    "                    if ((enzime == df[\"query\"][index]) & (genome_id in df[\"subject\"][index]) & (df[\"bitscore\"][index] > aux_list[11])):\n",
    "                        aux_list = list(df.iloc[index])\n",
    "            if aux_list != []:  \n",
    "                unique_central_to_genomes[enzime].append(aux_list)\n",
    "     \n",
    "    return unique_central_to_genomes"
   ]
  },
  {
   "cell_type": "code",
   "execution_count": null,
   "id": "2fc065d9",
   "metadata": {},
   "outputs": [],
   "source": [
    "best_hit_central_to_orgs_2(blast_File)"
   ]
  },
  {
   "cell_type": "code",
   "execution_count": null,
   "id": "4648fb7d",
   "metadata": {},
   "outputs": [],
   "source": [
    "test2 = best_hit_central_to_orgs_2(blast_File)\n",
    "tot1 = 0\n",
    "for enz in test2:\n",
    "    tot1 += len(test2[enz])\n",
    "tot1"
   ]
  },
  {
   "cell_type": "code",
   "execution_count": null,
   "id": "89d88bf4",
   "metadata": {},
   "outputs": [],
   "source": [
    "li = list(df1.iloc[0])\n",
    "li = [str(el) for el in li]\n",
    "\"\\t\".join(li)"
   ]
  },
  {
   "cell_type": "code",
   "execution_count": null,
   "id": "481355cf",
   "metadata": {},
   "outputs": [],
   "source": [
    "def best_hit_central_to_orgs_3(blast_file):\n",
    "    \"\"\" This function will obtain the best hit from central to organisms. Its output \n",
    "    is a file with these hits. From the output we will obtain the expanded families.\n",
    "    \"\"\"\n",
    "    \n",
    "    # Charge the dataframe with the blastp file:\n",
    "    df = pd.read_csv(blast_file, sep = '\\t', names = CTS.BLAST_COLS)\n",
    "    \n",
    "    ### SE NECESITA QUE LOS ARCHIVOS AUXILIARES ESTÉN CREADOS ###\n",
    "    #Files with the enzimes and orgs info:\n",
    "    \n",
    "    # Make a list with the enzimes:\n",
    "    central_enzimes_file = CTS.BBH_aux_files + 'central_enzimes.txt'\n",
    "    central_enzimes = []\n",
    "    with open(central_enzimes_file, \"r\") as central_file:\n",
    "        for line in central_file:\n",
    "            if line:\n",
    "                central_enzimes.append(line.rstrip(\"\\n\"))\n",
    "    \n",
    "    \n",
    "    # Make a dictionary with the ids and names of organisms:\n",
    "    ids_to_orgs_names_file = CTS.BBH_aux_files + 'ids_to_orgs_names.txt'\n",
    "    genomes = dict()\n",
    "    with open(ids_to_orgs_names_file, \"r\") as orgs_file:\n",
    "        for line in orgs_file:\n",
    "            if line:\n",
    "                key = line.split(\"-->\")[0]\n",
    "                value = line.split(\"-->\")[1]\n",
    "                genomes[key] = value\n",
    "    \n",
    "    \n",
    "    \n",
    "    #Define and initialize the output dictionary:\n",
    "    #unique_central_to_genomes = dict()\n",
    "    #for enzime in central_enzimes:\n",
    "    #    unique_central_to_genomes[enzime] = []\n",
    "     \n",
    "    # Path to best hits file:\n",
    "    \n",
    "    central_to_orgs_bh = CTS.BBH_aux_files + \"central_to_orgs_BH.uniq\"\n",
    "    \n",
    "    \n",
    "    # Finding the best hit:\n",
    "    best_hits_file = open(central_to_orgs_bh, \"w\")\n",
    "    for enzime in central_enzimes:\n",
    "        for genome_id in genomes.keys():\n",
    "            aux_list = []\n",
    "            \n",
    "            for index in range(len(df)):\n",
    "                if (aux_list == []):\n",
    "                    if ((enzime == df[\"query\"][index])&(genome_id in df[\"subject\"][index])):\n",
    "                        aux_list = list(df.iloc[index])\n",
    "                    else:\n",
    "                        continue\n",
    "                else:\n",
    "                    if ((enzime == df[\"query\"][index]) & (genome_id in df[\"subject\"][index]) & (df[\"bitscore\"][index] > aux_list[11])):\n",
    "                        aux_list = list(df.iloc[index])\n",
    "            if aux_list != []: \n",
    "                line = [\"{}\\t\".format(item) for item in aux_list]\n",
    "                best_hits_file.writelines(line)\n",
    "                best_hits_file.write(\"\\n\")\n",
    "                \n",
    "    best_hits_file.close() \n",
    "    #return unique_central_to_genomes\n",
    "    return"
   ]
  },
  {
   "cell_type": "code",
   "execution_count": null,
   "id": "31029ae0",
   "metadata": {},
   "outputs": [],
   "source": [
    "best_hit_central_to_orgs_3(blast_File)"
   ]
  },
  {
   "cell_type": "code",
   "execution_count": null,
   "id": "0b204f3c",
   "metadata": {},
   "outputs": [],
   "source": [
    "cadena = \"Hola\\ta\\ntodos.\""
   ]
  },
  {
   "cell_type": "code",
   "execution_count": null,
   "id": "5ee56ae6",
   "metadata": {},
   "outputs": [],
   "source": [
    "cadena"
   ]
  },
  {
   "cell_type": "markdown",
   "id": "253de13e",
   "metadata": {},
   "source": [
    "### Prueba de escribir best hits segundo blast en un archivo:"
   ]
  },
  {
   "cell_type": "code",
   "execution_count": null,
   "id": "104e667d",
   "metadata": {},
   "outputs": [],
   "source": [
    "def best_hit_orgs_to_central(blast_file):\n",
    "    \"\"\" This function will obtain the best hit from organisms to central, i.e., \n",
    "    assigns to each position id of a blast hit the corresponding enzime that best \n",
    "    hits in that particular place.\n",
    "    \"\"\"\n",
    "    \n",
    "    #charge dataframe:\n",
    "    df = pd.read_csv(blast_file, sep = '\\t', names = CTS.BLAST_COLS, index_col = False)\n",
    "    \n",
    "    #Obtain dictionary with the copy id position to the line of blast\n",
    "    \n",
    "    uniq2 = dict()\n",
    "    for index in df.index:\n",
    "        actual_line = df.iloc[index]\n",
    "        copy_id = actual_line[\"query\"].split(\"|\")[1]  #id of the hit position\n",
    "        if copy_id in uniq2:\n",
    "            if actual_line[\"bitscore\"] > uniq2[copy_id][11]:\n",
    "                uniq2[copy_id] = list(actual_line)\n",
    "        else:\n",
    "            if actual_line[\"bitscore\"] > 0:\n",
    "                uniq2[copy_id] = list(actual_line)\n",
    "    \n",
    "    \n",
    "    # Write the file with the best hits:\n",
    "    \n",
    "    orgs_to_central_bh = CTS.BBH_aux_files + \"orgs_to_central_BH.uniq\"  #Agregar ruta a constantes\n",
    "    best_hits_file = open(orgs_to_central_bh, \"w\")\n",
    "     \n",
    "    for key in uniq2:\n",
    "        line = [\"{}\\t\".format(item) for item in uniq2[key]] \n",
    "        best_hits_file.writelines(line)\n",
    "        best_hits_file.write(\"\\n\")\n",
    "    \n",
    "    \n",
    "    best_hits_file.close()\n",
    "    return\n"
   ]
  },
  {
   "cell_type": "code",
   "execution_count": null,
   "id": "c26a16ae",
   "metadata": {},
   "outputs": [],
   "source": [
    "path_second_blast = '/home/csar/Proyectos/Posdoc/Proyecto_pos/dev_package/data/data_bases/blastp/genomes_to_central/genomes_to_central.blast'\n",
    "hlp.best_hit_orgs_to_central(path_second_blast)"
   ]
  },
  {
   "cell_type": "code",
   "execution_count": null,
   "id": "e676e6b7",
   "metadata": {},
   "outputs": [],
   "source": [
    "orgs_to_central_bh = CTS.BBH_aux_files + \"orgs_to_central_BH.uniq\"\n",
    "DF1 = pd.read_csv(orgs_to_central_bh, sep = \"\\t\", names = CTS.BLAST_COLS, index_col = False)"
   ]
  },
  {
   "cell_type": "code",
   "execution_count": null,
   "id": "5ec5c7bd",
   "metadata": {},
   "outputs": [],
   "source": [
    "central_to_orgs_bh = CTS.BBH_aux_files + \"central_to_orgs_BH.uniq\"\n",
    "DF2 = pd.read_csv(central_to_orgs_bh, sep = \"\\t\", names = CTS.BLAST_COLS, index_col = False)"
   ]
  },
  {
   "cell_type": "code",
   "execution_count": null,
   "id": "87272420",
   "metadata": {},
   "outputs": [],
   "source": [
    "DF2.head()"
   ]
  },
  {
   "cell_type": "code",
   "execution_count": null,
   "id": "0db0201a",
   "metadata": {},
   "outputs": [],
   "source": [
    "def bbh_detector(central_to_orgs_bhs, orgs_to_central_bhs):\n",
    "    \"\"\" This function obtains the best bidirectional hits between\n",
    "    the blast of central to organisms and organisms to central respectively.\n",
    "    \"\"\"\n",
    "\n",
    "    # charge dataframes:\n",
    "    \n",
    "    df = pd.read_csv(central_to_orgs_bhs, sep = ' ', names = CTS.BLAST_COLS, index_col = False)\n",
    "    \n",
    "    df1 = pd.read_csv(orgs_to_central_bhs, sep = ' ', names = CTS.BLAST_COLS, index_col = False)\n",
    "    \n",
    "    # Write the file with the bbh:\n",
    "    \n",
    "    BBH_file = CTS.BBH_aux_files + \"BBH.bbh\"  #Agregar ruta a constantes\n",
    "    bbh_file = open(BBH_file, \"w\")\n",
    "     \n",
    "    for indx in df1.index:\n",
    "        copy_id = df1.iloc[indx][\"query\"].split(\"|\")[1]\n",
    "        enzime = df1.iloc[indx][\"subject\"]\n",
    "        for indxx in df.index:\n",
    "            if copy_id not in df.iloc[indxx][\"subject\"]:\n",
    "                continue\n",
    "            elif enzime not in df.iloc[indxx][\"query\"]:\n",
    "                continue\n",
    "            else:\n",
    "                #bbh[copy_id] = enzime\n",
    "                bbh_file.write(copy_id + \" -> \")\n",
    "                bbh_file.write(enzime +\"\\t\")\n",
    "                bbh_file.write(df1.iloc[indx][\"query\"]+\"\\n\")\n",
    "           \n",
    "    \n",
    "    bbh_file.close()\n",
    "    return"
   ]
  },
  {
   "cell_type": "code",
   "execution_count": null,
   "id": "a7a20107",
   "metadata": {},
   "outputs": [],
   "source": [
    "cent_to_org_bh = CTS.BBH_aux_files + \"central_to_orgs_BH.uniq\"\n",
    "org_to_cent_bh = CTS.BBH_aux_files + \"orgs_to_central_BH.uniq\"\n",
    "hlp.bbh_detector(cent_to_org_bh, org_to_cent_bh)\n",
    "#df1 = pd.read_csv(org_to_cent_bh, sep = ' ', names = CTS.BLAST_COLS, index_col =False)"
   ]
  },
  {
   "cell_type": "code",
   "execution_count": null,
   "id": "bd85fe89",
   "metadata": {},
   "outputs": [],
   "source": [
    "#df1"
   ]
  },
  {
   "cell_type": "code",
   "execution_count": null,
   "id": "27ec7b45",
   "metadata": {},
   "outputs": [],
   "source": [
    "import evo_helpers as hlp\n",
    "bbh_detector(cent_to_org_bh, org_to_cent_bh)"
   ]
  },
  {
   "cell_type": "markdown",
   "id": "e5f67561",
   "metadata": {},
   "source": [
    "## Comparar los bbh contra los obtenidos en evomining:\n"
   ]
  },
  {
   "cell_type": "code",
   "execution_count": null,
   "id": "8cbe7b9a",
   "metadata": {},
   "outputs": [],
   "source": [
    "BBH_mio = list()\n",
    "BBH_mio_path = \"/home/csar/Proyectos/Posdoc/Proyecto_pos/dev_package/data/aux_data/bbh_aux_files/BBH.bbh\"\n",
    "bbh_mio = open(BBH_mio_path, 'r')\n",
    "for line in bbh_mio:\n",
    "    hit = line.split(\"\\t\")[0]\n",
    "    BBH_mio.append(hit)\n",
    "\n",
    "\n",
    "bbh_mio.close()\n",
    "BBH_mio_set = set(BBH_mio)"
   ]
  },
  {
   "cell_type": "code",
   "execution_count": null,
   "id": "cb35e289",
   "metadata": {},
   "outputs": [],
   "source": [
    "BBH_evo = list()\n",
    "BBH_evo_path = \"/home/csar/Proyectos/Posdoc/ALL_curado.fasta_MiBIG_DB.faa_los17/blast/BBH/los17/aux_files/vueltalos17.blast.bbh\"\n",
    "bbh_evo = open(BBH_evo_path, 'r')\n",
    "for line in bbh_evo:\n",
    "    hit = line.split(\"\\t\")[0]\n",
    "    BBH_evo.append(hit)\n",
    "\n",
    "\n",
    "bbh_evo.close()\n",
    "BBH_evo_set = set(BBH_evo)\n"
   ]
  },
  {
   "cell_type": "code",
   "execution_count": null,
   "id": "c83633e4",
   "metadata": {},
   "outputs": [],
   "source": [
    "BBH_evo_set == BBH_mio_set"
   ]
  },
  {
   "cell_type": "code",
   "execution_count": null,
   "id": "cef4efd6",
   "metadata": {},
   "outputs": [],
   "source": [
    "\n",
    "#bbh_set"
   ]
  },
  {
   "cell_type": "code",
   "execution_count": null,
   "id": "b088d2f1",
   "metadata": {},
   "outputs": [],
   "source": []
  },
  {
   "cell_type": "code",
   "execution_count": 8,
   "id": "21603543",
   "metadata": {},
   "outputs": [],
   "source": [
    "expanded_families_files = [x for x in os.listdir(CTS.EXPANDED_FAMS) if x.endswith(\".fasta\")]"
   ]
  },
  {
   "cell_type": "code",
   "execution_count": 9,
   "id": "37d568bd",
   "metadata": {},
   "outputs": [
    {
     "data": {
      "text/plain": [
       "['expanded_fam_1.fasta', 'expanded_fam_2.fasta']"
      ]
     },
     "execution_count": 9,
     "metadata": {},
     "output_type": "execute_result"
    }
   ],
   "source": [
    "expanded_families_files"
   ]
  },
  {
   "cell_type": "code",
   "execution_count": 10,
   "id": "fb61b155",
   "metadata": {},
   "outputs": [],
   "source": [
    "blastdb_path = CTS.BLASTDBs_PATH + \"nat_prods_blastdb/\"\n",
    "h = blastdb_path + blastdb_path.split(\"/\")[-2]"
   ]
  },
  {
   "cell_type": "code",
   "execution_count": 11,
   "id": "a42a1c45",
   "metadata": {},
   "outputs": [
    {
     "data": {
      "text/plain": [
       "'data/data_bases/blast_dbs/nat_prods_blastdb/nat_prods_blastdb'"
      ]
     },
     "execution_count": 11,
     "metadata": {},
     "output_type": "execute_result"
    }
   ],
   "source": [
    "h"
   ]
  },
  {
   "cell_type": "code",
   "execution_count": 12,
   "id": "b2dbaefb",
   "metadata": {},
   "outputs": [
    {
     "data": {
      "text/plain": [
       "'data/data_bases/blast_dbs/central_blastdb/central_blastdb'"
      ]
     },
     "execution_count": 12,
     "metadata": {},
     "output_type": "execute_result"
    }
   ],
   "source": [
    "blastdb_path = CTS.BLASTDBs_PATH + 'central_blastdb/'\n",
    "h = blastdb_path + blastdb_path.split(\"/\")[-2]\n",
    "h"
   ]
  },
  {
   "cell_type": "code",
   "execution_count": 13,
   "id": "58ba9aaa",
   "metadata": {},
   "outputs": [
    {
     "name": "stdout",
     "output_type": "stream",
     "text": [
      ">BGC0000001|c1|1-1083|+|AEK75490.1|protein_methyltransferase|AEK75490.1\n"
     ]
    }
   ],
   "source": [
    "mibig_db = CTS.MIBiG_NAT_PRODS_DB + \"nat_prods.fasta\"\n",
    "mibig_file = open(mibig_db, \"r\")\n",
    "line = mibig_file.readline()\n",
    "li = line.strip()\n",
    "print(li)\n",
    "mibig_file.close()"
   ]
  },
  {
   "cell_type": "code",
   "execution_count": 15,
   "id": "38217f89",
   "metadata": {},
   "outputs": [
    {
     "data": {
      "text/plain": [
       "True"
      ]
     },
     "execution_count": 15,
     "metadata": {},
     "output_type": "execute_result"
    }
   ],
   "source": [
    "k = \"hola\"\n",
    "\"h\" in k"
   ]
  },
  {
   "cell_type": "code",
   "execution_count": 52,
   "id": "cf3e40a6",
   "metadata": {},
   "outputs": [],
   "source": [
    "def std_highlighter(x):\n",
    "    style_lt = \"background-color: white; color: black; font-weight: bold; border: solid; text-align: center; font-size:1.2em;\"\n",
    "    style_gt = \"background-color: #C04000; color: black; font-weight: bold; border: solid; text-align:center;\"\n",
    "    gt_std = x > x.mean() + x.std()\n",
    "    return [style_gt if i else style_lt for i in gt_std]\n",
    "\n",
    "def std2_highlighter(x):\n",
    "    style_lt = \"background-color: white; color: black; font-weight: bold; border: solid; text-align: center; font-size:1.2em;\"\n",
    "    style_gt = \"background-color: #C04000; color: black; font-weight: bold; border: solid; text-align:center;\"\n",
    "    gt_std = x > x.mean() + 2*x.std()\n",
    "    return [style_gt if i else style_lt for i in gt_std]\n",
    "\n",
    "def mean_highlighter(x):\n",
    "    style_lt = \"background-color: white; color: black; font-weight: bold; border: solid; text-align: center; font-size:1.2em;\"\n",
    "    style_gt = \"background-color: #C04000; color: black; font-weight: bold; border: solid; text-align:center;\"\n",
    "    gt_mean = x > x.mean()\n",
    "    return [style_gt if i else style_lt for i in gt_mean]\n",
    "def median_highlighter(x):\n",
    "    style_lt = \"background-color: white; color: black; font-weight: bold; border: solid; text-align: center; font-size:1.2em;\"\n",
    "    style_gt = \"background-color: #C04000; color: black; font-weight: bold; border: solid; text-align:center;\"\n",
    "    gt_median = x > x.mean()\n",
    "    return [style_gt if i else style_lt for i in gt_median]\n",
    "\n",
    "def mode_highlighter(x):\n",
    "    import statistics as st\n",
    "    style_lt = \"background-color: white; color: black; font-weight: bold; border: solid; text-align: center; font-size:1.2em;\"\n",
    "    style_gt = \"background-color: #C04000; color: black; font-weight: bold; border: solid; text-align:center;\"\n",
    "    gt_mode = x > st.mode(x)\n",
    "    return [style_gt if i else style_lt for i in gt_mode]\n",
    "\n",
    "def genomes_highlighter(x):\n",
    "    style_genome = \"background-color: white; color: black; font-weight: bold; border: solid; text-align: center; font-size:1.2em;\"\n",
    "    return [style_genome for i in x]\n",
    "headers = {\n",
    "    'selector': 'th.col_heading',\n",
    "    'props': \"background-color: OldLace; color: black; font-weight: bold; border: solid; text-align: center; font-size:1.2em;\"\n",
    "} \n",
    "def apply_highlighter2(df_heat,function, style_highlighter, headers_style):\n",
    "    return df_heat.style.apply(function,subset=[\"fam_1\", \"fam_2\"]).apply(style_highlighter, subset=\"orgs_ids\").hide(axis=\"index\").set_table_styles([headers_style], overwrite = False)"
   ]
  },
  {
   "cell_type": "code",
   "execution_count": 59,
   "id": "5e6a388e",
   "metadata": {},
   "outputs": [],
   "source": [
    "def make_heat_map(criteria):\n",
    "    import json\n",
    "    \n",
    "    json_file_Expfams = open(CTS.EXP_FAMS_JSON, \"r\")\n",
    "    exp_fam_dictio = json.load(json_file_Expfams)\n",
    "    json_file_Expfams.close()\n",
    "    \n",
    "    json_file_org = open(CTS.ORGS_IDS_NMS, \"r\")\n",
    "    orgs_ids_dict = json.load(json_file_org)\n",
    "    orgs_ids_list = list(orgs_ids_dict.keys())\n",
    "    json_file_org.close()\n",
    "    \n",
    "    json_file_fams = open(CTS.FAMILIES, \"r\")\n",
    "    fams_dict = json.load(json_file_fams)\n",
    "    families = list(fams_dict.keys())\n",
    "    json_file_fams.close()\n",
    "    \n",
    "    Dictio_DF = {\"orgs_ids\": orgs_ids_list}\n",
    "    for fam in families:\n",
    "        Dictio_DF[fam] = []\n",
    "    for org in Dictio_DF[\"orgs_ids\"]:\n",
    "        for key in exp_fam_dictio:\n",
    "            if org in key:\n",
    "                fmly = key.split(\"|\")[0]\n",
    "                Dictio_DF[fmly].append(len(exp_fam_dictio[key]))\n",
    "    \n",
    "    #Dictio_DF\n",
    "    DF_heat = pd.DataFrame.from_dict(Dictio_DF)\n",
    "    #for indx in DF_heat.index:\n",
    "    #    Id = DF_heat[\"organisms\"][indx]\n",
    "    #    DF_heat.at[indx,\"organisms\"] = orgs_ids_dict[Id]\n",
    "    \n",
    "    \n",
    "    #DF_heat\n",
    "    headers_style = {\n",
    "    'selector': 'th.col_heading',\n",
    "    'props': \"background-color: OldLace; color: black; font-weight: bold; border: solid; text-align: center; font-size:1.2em;\"\n",
    "    }\n",
    "    if criteria == \"mean\":\n",
    "        return apply_highlighter2(DF_heat,mean_highlighter, genomes_highlighter, headers_style)\n",
    "    elif criteria == \"median\":\n",
    "        return apply_highlighter2(DF_heat,median_highlighter, genomes_highlighter, headers_style)\n",
    "    elif criteria == \"mean + std\":\n",
    "        return apply_highlighter2(DF_heat,std_highlighter, genomes_highlighter, headers_style)\n",
    "    elif criteria == \"mean + 2*std\":\n",
    "        return apply_highlighter2(DF_heat,std2_highlighter, genomes_highlighter, headers_style)\n",
    "    elif criteria == \"mode\":\n",
    "        return apply_highlighter2(DF_heat,mode_highlighter, genomes_highlighter, headers_style)\n",
    "    else: \n",
    "        return print(f\"{criteria} is not a valid criteria\\n\")"
   ]
  },
  {
   "cell_type": "code",
   "execution_count": 60,
   "id": "8474e14a",
   "metadata": {},
   "outputs": [
    {
     "data": {
      "text/html": [
       "<style type=\"text/css\">\n",
       "#T_8063b th.col_heading {\n",
       "  background-color: OldLace;\n",
       "  color: black;\n",
       "  font-weight: bold;\n",
       "  border: solid;\n",
       "  text-align: center;\n",
       "  font-size: 1.2em;\n",
       "}\n",
       "#T_8063b_row0_col0, #T_8063b_row0_col2, #T_8063b_row1_col0, #T_8063b_row1_col1, #T_8063b_row1_col2, #T_8063b_row2_col0, #T_8063b_row2_col1, #T_8063b_row2_col2, #T_8063b_row3_col0, #T_8063b_row3_col1, #T_8063b_row3_col2, #T_8063b_row4_col0, #T_8063b_row4_col1, #T_8063b_row4_col2, #T_8063b_row5_col0, #T_8063b_row5_col1, #T_8063b_row5_col2, #T_8063b_row6_col0, #T_8063b_row6_col2, #T_8063b_row7_col0, #T_8063b_row7_col1, #T_8063b_row7_col2, #T_8063b_row8_col0, #T_8063b_row8_col1, #T_8063b_row8_col2, #T_8063b_row9_col0, #T_8063b_row9_col2, #T_8063b_row10_col0, #T_8063b_row10_col1, #T_8063b_row10_col2, #T_8063b_row11_col0, #T_8063b_row11_col1, #T_8063b_row11_col2, #T_8063b_row12_col0, #T_8063b_row12_col1, #T_8063b_row12_col2, #T_8063b_row13_col0, #T_8063b_row13_col1, #T_8063b_row13_col2, #T_8063b_row14_col0, #T_8063b_row14_col1, #T_8063b_row14_col2, #T_8063b_row15_col0, #T_8063b_row15_col2, #T_8063b_row16_col0, #T_8063b_row16_col1, #T_8063b_row16_col2 {\n",
       "  background-color: white;\n",
       "  color: black;\n",
       "  font-weight: bold;\n",
       "  border: solid;\n",
       "  text-align: center;\n",
       "  font-size: 1.2em;\n",
       "}\n",
       "#T_8063b_row0_col1, #T_8063b_row6_col1, #T_8063b_row9_col1, #T_8063b_row15_col1 {\n",
       "  background-color: #C04000;\n",
       "  color: black;\n",
       "  font-weight: bold;\n",
       "  border: solid;\n",
       "  text-align: center;\n",
       "}\n",
       "</style>\n",
       "<table id=\"T_8063b\">\n",
       "  <thead>\n",
       "    <tr>\n",
       "      <th id=\"T_8063b_level0_col0\" class=\"col_heading level0 col0\" >orgs_ids</th>\n",
       "      <th id=\"T_8063b_level0_col1\" class=\"col_heading level0 col1\" >fam_1</th>\n",
       "      <th id=\"T_8063b_level0_col2\" class=\"col_heading level0 col2\" >fam_2</th>\n",
       "    </tr>\n",
       "  </thead>\n",
       "  <tbody>\n",
       "    <tr>\n",
       "      <td id=\"T_8063b_row0_col0\" class=\"data row0 col0\" >1156913.7</td>\n",
       "      <td id=\"T_8063b_row0_col1\" class=\"data row0 col1\" >7</td>\n",
       "      <td id=\"T_8063b_row0_col2\" class=\"data row0 col2\" >1</td>\n",
       "    </tr>\n",
       "    <tr>\n",
       "      <td id=\"T_8063b_row1_col0\" class=\"data row1 col0\" >169133.3</td>\n",
       "      <td id=\"T_8063b_row1_col1\" class=\"data row1 col1\" >1</td>\n",
       "      <td id=\"T_8063b_row1_col2\" class=\"data row1 col2\" >1</td>\n",
       "    </tr>\n",
       "    <tr>\n",
       "      <td id=\"T_8063b_row2_col0\" class=\"data row2 col0\" >290340.24</td>\n",
       "      <td id=\"T_8063b_row2_col1\" class=\"data row2 col1\" >5</td>\n",
       "      <td id=\"T_8063b_row2_col2\" class=\"data row2 col2\" >1</td>\n",
       "    </tr>\n",
       "    <tr>\n",
       "      <td id=\"T_8063b_row3_col0\" class=\"data row3 col0\" >367928.21</td>\n",
       "      <td id=\"T_8063b_row3_col1\" class=\"data row3 col1\" >3</td>\n",
       "      <td id=\"T_8063b_row3_col2\" class=\"data row3 col2\" >1</td>\n",
       "    </tr>\n",
       "    <tr>\n",
       "      <td id=\"T_8063b_row4_col0\" class=\"data row4 col0\" >442563.11</td>\n",
       "      <td id=\"T_8063b_row4_col1\" class=\"data row4 col1\" >2</td>\n",
       "      <td id=\"T_8063b_row4_col2\" class=\"data row4 col2\" >1</td>\n",
       "    </tr>\n",
       "    <tr>\n",
       "      <td id=\"T_8063b_row5_col0\" class=\"data row5 col0\" >446462.15</td>\n",
       "      <td id=\"T_8063b_row5_col1\" class=\"data row5 col1\" >4</td>\n",
       "      <td id=\"T_8063b_row5_col2\" class=\"data row5 col2\" >1</td>\n",
       "    </tr>\n",
       "    <tr>\n",
       "      <td id=\"T_8063b_row6_col0\" class=\"data row6 col0\" >452863.24</td>\n",
       "      <td id=\"T_8063b_row6_col1\" class=\"data row6 col1\" >8</td>\n",
       "      <td id=\"T_8063b_row6_col2\" class=\"data row6 col2\" >1</td>\n",
       "    </tr>\n",
       "    <tr>\n",
       "      <td id=\"T_8063b_row7_col0\" class=\"data row7 col0\" >649831.6</td>\n",
       "      <td id=\"T_8063b_row7_col1\" class=\"data row7 col1\" >5</td>\n",
       "      <td id=\"T_8063b_row7_col2\" class=\"data row7 col2\" >1</td>\n",
       "    </tr>\n",
       "    <tr>\n",
       "      <td id=\"T_8063b_row8_col0\" class=\"data row8 col0\" >6666666.104540</td>\n",
       "      <td id=\"T_8063b_row8_col1\" class=\"data row8 col1\" >6</td>\n",
       "      <td id=\"T_8063b_row8_col2\" class=\"data row8 col2\" >1</td>\n",
       "    </tr>\n",
       "    <tr>\n",
       "      <td id=\"T_8063b_row9_col0\" class=\"data row9 col0\" >6666666.111158</td>\n",
       "      <td id=\"T_8063b_row9_col1\" class=\"data row9 col1\" >9</td>\n",
       "      <td id=\"T_8063b_row9_col2\" class=\"data row9 col2\" >1</td>\n",
       "    </tr>\n",
       "    <tr>\n",
       "      <td id=\"T_8063b_row10_col0\" class=\"data row10 col0\" >6666666.111572</td>\n",
       "      <td id=\"T_8063b_row10_col1\" class=\"data row10 col1\" >2</td>\n",
       "      <td id=\"T_8063b_row10_col2\" class=\"data row10 col2\" >1</td>\n",
       "    </tr>\n",
       "    <tr>\n",
       "      <td id=\"T_8063b_row11_col0\" class=\"data row11 col0\" >6666666.112811</td>\n",
       "      <td id=\"T_8063b_row11_col1\" class=\"data row11 col1\" >3</td>\n",
       "      <td id=\"T_8063b_row11_col2\" class=\"data row11 col2\" >1</td>\n",
       "    </tr>\n",
       "    <tr>\n",
       "      <td id=\"T_8063b_row12_col0\" class=\"data row12 col0\" >6666666.146813</td>\n",
       "      <td id=\"T_8063b_row12_col1\" class=\"data row12 col1\" >2</td>\n",
       "      <td id=\"T_8063b_row12_col2\" class=\"data row12 col2\" >1</td>\n",
       "    </tr>\n",
       "    <tr>\n",
       "      <td id=\"T_8063b_row13_col0\" class=\"data row13 col0\" >6666666.146852</td>\n",
       "      <td id=\"T_8063b_row13_col1\" class=\"data row13 col1\" >1</td>\n",
       "      <td id=\"T_8063b_row13_col2\" class=\"data row13 col2\" >1</td>\n",
       "    </tr>\n",
       "    <tr>\n",
       "      <td id=\"T_8063b_row14_col0\" class=\"data row14 col0\" >6666666.146872</td>\n",
       "      <td id=\"T_8063b_row14_col1\" class=\"data row14 col1\" >3</td>\n",
       "      <td id=\"T_8063b_row14_col2\" class=\"data row14 col2\" >1</td>\n",
       "    </tr>\n",
       "    <tr>\n",
       "      <td id=\"T_8063b_row15_col0\" class=\"data row15 col0\" >749927.13</td>\n",
       "      <td id=\"T_8063b_row15_col1\" class=\"data row15 col1\" >8</td>\n",
       "      <td id=\"T_8063b_row15_col2\" class=\"data row15 col2\" >1</td>\n",
       "    </tr>\n",
       "    <tr>\n",
       "      <td id=\"T_8063b_row16_col0\" class=\"data row16 col0\" >930171.11</td>\n",
       "      <td id=\"T_8063b_row16_col1\" class=\"data row16 col1\" >2</td>\n",
       "      <td id=\"T_8063b_row16_col2\" class=\"data row16 col2\" >1</td>\n",
       "    </tr>\n",
       "  </tbody>\n",
       "</table>\n"
      ],
      "text/plain": [
       "<pandas.io.formats.style.Styler at 0x78d016915f30>"
      ]
     },
     "execution_count": 60,
     "metadata": {},
     "output_type": "execute_result"
    }
   ],
   "source": [
    "make_heat_map(\"mean + std\")"
   ]
  },
  {
   "cell_type": "code",
   "execution_count": null,
   "id": "561798fe",
   "metadata": {},
   "outputs": [],
   "source": []
  }
 ],
 "metadata": {
  "kernelspec": {
   "display_name": "Python (bioenv)",
   "language": "python",
   "name": "bioenv"
  },
  "language_info": {
   "codemirror_mode": {
    "name": "ipython",
    "version": 3
   },
   "file_extension": ".py",
   "mimetype": "text/x-python",
   "name": "python",
   "nbconvert_exporter": "python",
   "pygments_lexer": "ipython3",
   "version": "3.10.6"
  }
 },
 "nbformat": 4,
 "nbformat_minor": 5
}
