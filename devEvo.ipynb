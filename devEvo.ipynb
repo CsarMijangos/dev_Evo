{
 "cells": [
  {
   "cell_type": "code",
   "execution_count": 1,
   "id": "77accb3a",
   "metadata": {},
   "outputs": [],
   "source": [
    "import os\n",
    "import sys\n",
    "import pandas as pd\n",
    "\n",
    "import evo_helpers as hlp\n",
    "import evo_constants as CTS"
   ]
  },
  {
   "cell_type": "code",
   "execution_count": 80,
   "id": "c35ea934",
   "metadata": {},
   "outputs": [
    {
     "name": "stdout",
     "output_type": "stream",
     "text": [
      "Welcome to EvoMinig\n",
      "\n",
      "Press enter to continune ...\n"
     ]
    }
   ],
   "source": [
    "hlp.welcome()"
   ]
  },
  {
   "cell_type": "code",
   "execution_count": null,
   "id": "c37a782c",
   "metadata": {},
   "outputs": [
    {
     "name": "stdout",
     "output_type": "stream",
     "text": [
      "Press 1 to continue with precharged example.\n",
      "Press 2 to continue with your own databases.\n"
     ]
    }
   ],
   "source": [
    "#from importlib import reload\n",
    "#reload(evo_helpers)\n",
    "\n",
    "opt = hlp.option_menu()"
   ]
  },
  {
   "cell_type": "code",
   "execution_count": null,
   "id": "fd17f884",
   "metadata": {},
   "outputs": [],
   "source": [
    "class Evomining:\n",
    "    \"\"\"This class creates an evomining object.\n",
    "    Its methods permit to access to the evomining\n",
    "    funtionality.\n",
    "    \"\"\"\n",
    "\n",
    "    def __init__(self, centralDB,\n",
    "                evo_genomesDB,\n",
    "                nat_prodsDB):\n",
    "        self.central = centralDB\n",
    "        self.genomesDB = evo_genomesDB\n",
    "        self.nat_prods = nat_prodsDB"
   ]
  },
  {
   "cell_type": "code",
   "execution_count": null,
   "id": "6fc4b6a7",
   "metadata": {},
   "outputs": [],
   "source": [
    "## obtener las bases de datos del usuario\n",
    "\n",
    "#from importlib import reload\n",
    "#reload(evo_helpers)\n",
    "\n",
    "if opt == 1:\n",
    "    hlp.make_all_evo_headers(CTS.EXMPL_DB[\"genomes\"],\n",
    "                                 CTS.EXMPL_DB[\"rast_ids\"])\n",
    "    hlp.join_evo_headers_files()\n",
    "    hlp.remove_evo_headers_files()\n",
    "    \n",
    "    evo_genomes_path = CTS.EVO_GENOMES_DB\n",
    "    \n",
    "    evomining = EvoMining(cts.EXML_DB[\"central\"],\n",
    "                          cts.EXMPL_DB[\"genomes\"],\n",
    "                          cts.EXMPL_DB[\"nat_prods\"])\n",
    "    #evomining.run()\n",
    "\n",
    "else: \n",
    "    user_dbs = hlp.get_dbs()\n",
    "    hlp.make_all_evo_headers(user_dbs[\"genomes\"], \n",
    "                             user_dbs[\"rast_ids\"])\n",
    "    hlp.join_evo_headers_files()\n",
    "    hlp.remove_evo_headers_files()\n",
    "    \n",
    "    user_dbs[\"genomes\"] = CTS.EVO_GENOMES_DB\n",
    "    \n",
    "    evomining = EvoMining(user_dbs[\"central\"],\n",
    "                         user_dbs[\"genomes\"],\n",
    "                         user_dbs[\"nat_prods\"])\n",
    "    #evomining.run()\n",
    "\n",
    "#evomining.run()"
   ]
  },
  {
   "cell_type": "markdown",
   "id": "8b349be4",
   "metadata": {},
   "source": [
    "## Obtener los archivos .faa con los encabezados en formato evomining:\n",
    "### Los nuevos .faa individuales se guardan en data/aux_data/  (se borran una vez utilizados)\n",
    "### La base de datos con encabezados de evomining se guarda en /data/data_bases/evo_genomes_db/"
   ]
  },
  {
   "cell_type": "code",
   "execution_count": null,
   "id": "696da2e1",
   "metadata": {},
   "outputs": [],
   "source": [
    "#from importlib import reload\n",
    "#reload(evo_helpers)\n",
    "\n",
    "genomes_db = \"/home/csar/Proyectos/Posdoc/Proyecto_pos/dev_package/data/data_bases/example/genomes/los17\"\n",
    "Rast_ids = \"/home/csar/Proyectos/Posdoc/Proyecto_pos/dev_package/data/data_bases/example/genomes/los17Rast.ids\"\n",
    "hlp.make_all_evo_headers(genomes_db, Rast_ids)\n",
    "hlp.join_evo_headers_files()\n",
    "hlp.remove_evo_headers_files()"
   ]
  },
  {
   "cell_type": "markdown",
   "id": "a8d0f4d3",
   "metadata": {},
   "source": [
    "## Aplicar makeblastdb a las bases de datos que necesitaremos:"
   ]
  },
  {
   "cell_type": "code",
   "execution_count": null,
   "id": "996103de",
   "metadata": {},
   "outputs": [],
   "source": [
    "hlp.makeblast_db(CTS.EVO_GENOMES_DB)"
   ]
  },
  {
   "cell_type": "code",
   "execution_count": null,
   "id": "942d751a",
   "metadata": {},
   "outputs": [],
   "source": [
    "hlp.makeblast_db(CTS.EXMPL_DB[\"central\"])\n"
   ]
  },
  {
   "cell_type": "code",
   "execution_count": null,
   "id": "292f2df2",
   "metadata": {},
   "outputs": [],
   "source": [
    "hlp.makeblast_db(CTS.EXMPL_DB[\"nat_prods\"])"
   ]
  },
  {
   "cell_type": "markdown",
   "id": "53e73461",
   "metadata": {},
   "source": [
    "## Obtener los blastp entre la base de datos central vs la base de datos de genomas:"
   ]
  },
  {
   "cell_type": "code",
   "execution_count": null,
   "id": "da5384c0",
   "metadata": {},
   "outputs": [],
   "source": [
    "blastdb_path = CTS.BLASTDBs_PATH + 'evo_genomes_db_blastdb/'\n",
    "            \n",
    "hlp.apply_blastp(CTS.EXMPL_DB[\"central\"], blastdb_path)"
   ]
  },
  {
   "cell_type": "code",
   "execution_count": null,
   "id": "ebc9aa70",
   "metadata": {},
   "outputs": [],
   "source": [
    "CTS.EVO_GENOMES_DB"
   ]
  },
  {
   "cell_type": "markdown",
   "id": "3e22b24f",
   "metadata": {},
   "source": [
    "## Obtener los blastp entre la base de datos de genomas vs la base de datos central:"
   ]
  },
  {
   "cell_type": "code",
   "execution_count": null,
   "id": "70239247",
   "metadata": {},
   "outputs": [],
   "source": [
    "blastdb_path = CTS.BLASTDBs_PATH + 'central_blastdb/'\n",
    "            \n",
    "hlp.apply_blastp(CTS.EVO_GENOMES_DB, blastdb_path)"
   ]
  },
  {
   "cell_type": "markdown",
   "id": "d1b1b9ac",
   "metadata": {},
   "source": [
    "## Obtener los BBH:"
   ]
  },
  {
   "cell_type": "markdown",
   "id": "e78c3eae",
   "metadata": {},
   "source": [
    "### Obtener los mejores elementos únicos del blast de metabolismo central vs genomas: \n",
    "### Estos se guardarán en un diccionario de la forma:\n",
    "### { enzima_i : mejor_copia_en_el_organismo_k }\n",
    "### donde i recorre todas las enzimas en el metabolismo central, y k recorre todos los genomas."
   ]
  },
  {
   "cell_type": "code",
   "execution_count": 8,
   "id": "791b41e0",
   "metadata": {},
   "outputs": [],
   "source": [
    "df1 = pd.read_csv('/home/csar/Proyectos/Posdoc/Proyecto_pos/dev_package/data/data_bases/blastp/central_to_genomes/central_to_genomes.blast', sep = \"\\t\", names = CTS.BLAST_COLS )"
   ]
  },
  {
   "cell_type": "code",
   "execution_count": 40,
   "id": "d65a289e",
   "metadata": {},
   "outputs": [],
   "source": [
    "central_enzimes = df1['query'].unique() ##Lista con las enzimas del metabolismo central\n",
    "genomes = hlp.dict_ids_to_names_genomes(CTS.EXMPL_DB[\"rast_ids\"]) ## Lista con los genomas de la base de genomas"
   ]
  },
  {
   "cell_type": "code",
   "execution_count": 71,
   "id": "e75ef02d",
   "metadata": {},
   "outputs": [
    {
     "data": {
      "text/plain": [
       "query            3PGA_AMINOACIDS|1|Phosphoglycerate_dehydrogena...\n",
       "subject          gi|6666666.146852.1090|6666666.146852|NC_00293...\n",
       "pc_identity                                                 79.623\n",
       "aln_length                                                     530\n",
       "mismatches                                                     108\n",
       "gaps_opened                                                      0\n",
       "query_start                                                      1\n",
       "query_end                                                      530\n",
       "subject_start                                                    1\n",
       "subject_end                                                    530\n",
       "e_value                                                        0.0\n",
       "bitscore                                                     847.0\n",
       "Name: 0, dtype: object"
      ]
     },
     "execution_count": 71,
     "metadata": {},
     "output_type": "execute_result"
    }
   ],
   "source": [
    "df1.iloc[0]"
   ]
  },
  {
   "cell_type": "code",
   "execution_count": 79,
   "id": "5aab7289",
   "metadata": {},
   "outputs": [
    {
     "ename": "IndexError",
     "evalue": "list index out of range",
     "output_type": "error",
     "traceback": [
      "\u001b[0;31m---------------------------------------------------------------------------\u001b[0m",
      "\u001b[0;31mIndexError\u001b[0m                                Traceback (most recent call last)",
      "Cell \u001b[0;32mIn [79], line 13\u001b[0m\n\u001b[1;32m     11\u001b[0m \u001b[38;5;28;01mif\u001b[39;00m (genome_id \u001b[38;5;129;01min\u001b[39;00m df1[\u001b[38;5;124m\"\u001b[39m\u001b[38;5;124msubject\u001b[39m\u001b[38;5;124m\"\u001b[39m][index]) \u001b[38;5;241m&\u001b[39m (aux_list \u001b[38;5;241m==\u001b[39m []):\n\u001b[1;32m     12\u001b[0m     aux_list\u001b[38;5;241m=\u001b[39m\u001b[38;5;28mlist\u001b[39m(df1[\u001b[38;5;124m\"\u001b[39m\u001b[38;5;124msubject\u001b[39m\u001b[38;5;124m\"\u001b[39m][index])\n\u001b[0;32m---> 13\u001b[0m \u001b[38;5;28;01melif\u001b[39;00m (genome_id \u001b[38;5;129;01min\u001b[39;00m df1[\u001b[38;5;124m\"\u001b[39m\u001b[38;5;124msubject\u001b[39m\u001b[38;5;124m\"\u001b[39m][index]) \u001b[38;5;241m&\u001b[39m (df1[\u001b[38;5;124m\"\u001b[39m\u001b[38;5;124mbitscore\u001b[39m\u001b[38;5;124m\"\u001b[39m][index] \u001b[38;5;241m>\u001b[39m aux_list[\u001b[38;5;241m0\u001b[39m][\u001b[38;5;241m11\u001b[39m]):\n\u001b[1;32m     14\u001b[0m     aux_list \u001b[38;5;241m=\u001b[39m \u001b[38;5;28mlist\u001b[39m(df1[\u001b[38;5;124m\"\u001b[39m\u001b[38;5;124msubject\u001b[39m\u001b[38;5;124m\"\u001b[39m][index])\n\u001b[1;32m     15\u001b[0m \u001b[38;5;28;01melse\u001b[39;00m:\n",
      "\u001b[0;31mIndexError\u001b[0m: list index out of range"
     ]
    }
   ],
   "source": [
    "unique_in_first_blast = dict()\n",
    "for enzime in central_enzimes:\n",
    "    unique_in_first_blast[enzime] = []\n",
    "    \n",
    "\n",
    "\n",
    "aux_list = list()\n",
    "for enzime in central_enzimes:\n",
    "    for genome_id in genomes.keys():\n",
    "        for index in range(len(df1)):\n",
    "            if (genome_id in df1[\"subject\"][index]) & (aux_list == []):\n",
    "                aux_list=list(df1[\"subject\"][index])\n",
    "            elif (genome_id in df1[\"subject\"][index]) & (df1[\"bitscore\"][index] > aux_list[0][11]):\n",
    "                aux_list = list(df1[\"subject\"][index])\n",
    "            else:\n",
    "                continue\n",
    "        unique_in_first_blast[enzime].append(aux_list)\n",
    "    "
   ]
  }
 ],
 "metadata": {
  "kernelspec": {
   "display_name": "Python 3 (ipykernel)",
   "language": "python",
   "name": "python3"
  },
  "language_info": {
   "codemirror_mode": {
    "name": "ipython",
    "version": 3
   },
   "file_extension": ".py",
   "mimetype": "text/x-python",
   "name": "python",
   "nbconvert_exporter": "python",
   "pygments_lexer": "ipython3",
   "version": "3.10.6"
  }
 },
 "nbformat": 4,
 "nbformat_minor": 5
}
