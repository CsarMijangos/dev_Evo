{
 "cells": [
  {
   "cell_type": "code",
   "execution_count": 138,
   "id": "0df5f22e",
   "metadata": {},
   "outputs": [],
   "source": [
    "import os\n",
    "import sys\n",
    "\n",
    "import evo_helpers as hlp\n",
    "import evo_constants as CTS"
   ]
  },
  {
   "cell_type": "code",
   "execution_count": 139,
   "id": "083de5e7",
   "metadata": {},
   "outputs": [
    {
     "name": "stdout",
     "output_type": "stream",
     "text": [
      "Welcome to EvoMinig\n",
      "\n",
      "Press enter to continune ...\n"
     ]
    }
   ],
   "source": [
    "hlp.welcome()"
   ]
  },
  {
   "cell_type": "code",
   "execution_count": null,
   "id": "a98fb18a",
   "metadata": {},
   "outputs": [
    {
     "name": "stdout",
     "output_type": "stream",
     "text": [
      "Press 1 to continue with precharged example.\n",
      "Press 2 to continue with your own databases.\n"
     ]
    }
   ],
   "source": [
    "from importlib import reload\n",
    "reload(evo_helpers)\n",
    "\n",
    "opt = hlp.option_menu()"
   ]
  },
  {
   "cell_type": "code",
   "execution_count": 136,
   "id": "a3f9e229",
   "metadata": {},
   "outputs": [
    {
     "name": "stdout",
     "output_type": "stream",
     "text": [
      "\n",
      " Enter path to central_DB: /data/central/\n",
      "\n",
      " Enter path to genomes_DB: /data/genomes/\n",
      "\n",
      " Enter path to rast_ids: /data/rast.ids\n",
      "\n",
      " Enter path to nat_prods_DB: data/mibig/\n"
     ]
    }
   ],
   "source": [
    "## obtener las bases de datos del usuario\n",
    "\n",
    "from importlib import reload\n",
    "reload(evo_helpers)\n",
    "\n",
    "if opt == 1:\n",
    "    evomining = EvoMining(cts.EXML_DB[\"central\"],\n",
    "                          cts.EXMPL_DB[\"genomes\"],\n",
    "                          cts.EXMPL_DB[\"nat_prods\"])\n",
    "    evomining.run()\n",
    "else: \n",
    "    user_dbs = hlp.get_dbs()\n"
   ]
  },
  {
   "cell_type": "code",
   "execution_count": null,
   "id": "7cd708bc",
   "metadata": {},
   "outputs": [],
   "source": [
    "##Obtener los headers que utiliza evomining:\n"
   ]
  }
 ],
 "metadata": {
  "kernelspec": {
   "display_name": "Python 3 (ipykernel)",
   "language": "python",
   "name": "python3"
  },
  "language_info": {
   "codemirror_mode": {
    "name": "ipython",
    "version": 3
   },
   "file_extension": ".py",
   "mimetype": "text/x-python",
   "name": "python",
   "nbconvert_exporter": "python",
   "pygments_lexer": "ipython3",
   "version": "3.10.6"
  }
 },
 "nbformat": 4,
 "nbformat_minor": 5
}
